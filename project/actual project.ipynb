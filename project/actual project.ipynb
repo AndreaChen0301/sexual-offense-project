{
 "cells": [
  {
   "cell_type": "markdown",
   "id": "c3391791",
   "metadata": {},
   "source": [
    "# Sexual Offense in US\n",
    "\n",
    "### Inequality is always a hot topic in anywhere of the world, espeically in the U.S.. However, every time when people talk about inequality of the minority, they talk about race, mostly black, while ignoring a large portion of population who has been mistreated for decades----females. Inequality or stereotype of females exist since young. Sexual directive prints on baby onesies, stereotypical career advice for females, unequal opportunities  in academics, unreasonable limitations for females in workplaces, etc.. They exist everywhere; I can say no girl could say that she has not been mistreated in her entire life. \n",
    "### Not everyone can name a person around them who are victim or offender of sexual offense, but it's easy to find a real-life example, or to say, criminal case. Notorious rapist Jeffery Eiberstain and Warren S. Jeffs of Keep Sweet: Pray and Obey; I can already name two just in US. Sexual offense is the worst form of malice agianst women. This project is tend to see analyze the victim + offender proflie of sexual offenses and dig deeper into the demographical factors that might correlate with seuxal offense, specifically in 2021."
   ]
  },
  {
   "cell_type": "code",
   "execution_count": 1,
   "id": "ef376fda",
   "metadata": {},
   "outputs": [],
   "source": [
    "import pandas as pd\n",
    "import matplotlib.pyplot as plt\n",
    "import numpy as np\n",
    "import re\n",
    "import seaborn as sns\n",
    "import geopandas as gpd\n",
    "import plotly.express as px\n",
    "\n",
    "# add leading description"
   ]
  },
  {
   "cell_type": "code",
   "execution_count": 2,
   "id": "328b8038",
   "metadata": {},
   "outputs": [],
   "source": [
    "raw = pd.read_excel(\"./data/trend.xls\", skiprows = 3, skipfooter = 7)"
   ]
  },
  {
   "cell_type": "code",
   "execution_count": 3,
   "id": "4e4666c7",
   "metadata": {},
   "outputs": [
    {
     "data": {
      "text/plain": [
       "Index(['Year', 'Population1', 'Violent\\ncrime2', 'Violent \\ncrime \\nrate ',\n",
       "       'Murder and\\nnonnegligent \\nmanslaughter',\n",
       "       'Murder and \\nnonnegligent \\nmanslaughter \\nrate ',\n",
       "       'Rape\\n(revised \\ndefinition)3', 'Rape\\n(revised \\ndefinition) \\nrate3',\n",
       "       'Rape\\n(legacy \\ndefinition)4', 'Rape\\n(legacy \\ndefinition) \\nrate4',\n",
       "       'Robbery', 'Robbery \\nrate ', 'Aggravated \\nassault',\n",
       "       'Aggravated \\nassault rate ', 'Property \\ncrime',\n",
       "       'Property \\ncrime \\nrate ', 'Burglary', 'Burglary \\nrate ',\n",
       "       'Larceny-\\ntheft', 'Larceny-\\ntheft rate ', 'Motor \\nvehicle \\ntheft',\n",
       "       'Motor \\nvehicle \\ntheft \\nrate ', 'Unnamed: 22', 'Unnamed: 23'],\n",
       "      dtype='object')"
      ]
     },
     "execution_count": 3,
     "metadata": {},
     "output_type": "execute_result"
    }
   ],
   "source": [
    "raw.columns"
   ]
  },
  {
   "cell_type": "code",
   "execution_count": 4,
   "id": "7af5e768",
   "metadata": {},
   "outputs": [],
   "source": [
    "raw_13=raw.loc[:, [\"Year\", \"Rape\\n(revised \\ndefinition)3\", \"Rape\\n(revised \\ndefinition) \\nrate3\", \"Rape\\n(legacy \\ndefinition)4\", \"Rape\\n(legacy \\ndefinition) \\nrate4\"]]\n",
    "raw_13.columns = [\"year\", \"revised rape\",\"revised rape rate\", \"legacy rape\", \"legacy rape rate\"]"
   ]
  },
  {
   "cell_type": "code",
   "execution_count": 5,
   "id": "a9290b13",
   "metadata": {},
   "outputs": [
    {
     "name": "stderr",
     "output_type": "stream",
     "text": [
      "/Users/yahanchen/opt/anaconda3/lib/python3.8/site-packages/pandas/core/indexing.py:1637: SettingWithCopyWarning: \n",
      "A value is trying to be set on a copy of a slice from a DataFrame\n",
      "\n",
      "See the caveats in the documentation: https://pandas.pydata.org/pandas-docs/stable/user_guide/indexing.html#returning-a-view-versus-a-copy\n",
      "  self._setitem_single_block(indexer, value, name)\n",
      "/Users/yahanchen/opt/anaconda3/lib/python3.8/site-packages/pandas/core/indexing.py:692: SettingWithCopyWarning: \n",
      "A value is trying to be set on a copy of a slice from a DataFrame\n",
      "\n",
      "See the caveats in the documentation: https://pandas.pydata.org/pandas-docs/stable/user_guide/indexing.html#returning-a-view-versus-a-copy\n",
      "  iloc._setitem_with_indexer(indexer, value, self.name)\n",
      "<ipython-input-5-41cc407a6476>:3: SettingWithCopyWarning: \n",
      "A value is trying to be set on a copy of a slice from a DataFrame.\n",
      "Try using .loc[row_indexer,col_indexer] = value instead\n",
      "\n",
      "See the caveats in the documentation: https://pandas.pydata.org/pandas-docs/stable/user_guide/indexing.html#returning-a-view-versus-a-copy\n",
      "  rape[\"revised rape\"] = pd.to_numeric(rape[\"revised rape\"])\n"
     ]
    },
    {
     "data": {
      "text/html": [
       "<div>\n",
       "<style scoped>\n",
       "    .dataframe tbody tr th:only-of-type {\n",
       "        vertical-align: middle;\n",
       "    }\n",
       "\n",
       "    .dataframe tbody tr th {\n",
       "        vertical-align: top;\n",
       "    }\n",
       "\n",
       "    .dataframe thead th {\n",
       "        text-align: right;\n",
       "    }\n",
       "</style>\n",
       "<table border=\"1\" class=\"dataframe\">\n",
       "  <thead>\n",
       "    <tr style=\"text-align: right;\">\n",
       "      <th></th>\n",
       "      <th>year</th>\n",
       "      <th>revised rape</th>\n",
       "      <th>revised rape rate</th>\n",
       "      <th>legacy rape</th>\n",
       "      <th>legacy rape rate</th>\n",
       "    </tr>\n",
       "  </thead>\n",
       "  <tbody>\n",
       "    <tr>\n",
       "      <th>13</th>\n",
       "      <td>2013</td>\n",
       "      <td>113695</td>\n",
       "      <td>35.9</td>\n",
       "      <td>82109</td>\n",
       "      <td>25.9</td>\n",
       "    </tr>\n",
       "    <tr>\n",
       "      <th>14</th>\n",
       "      <td>2014</td>\n",
       "      <td>118027</td>\n",
       "      <td>37.0</td>\n",
       "      <td>84864</td>\n",
       "      <td>26.6</td>\n",
       "    </tr>\n",
       "    <tr>\n",
       "      <th>15</th>\n",
       "      <td>2015</td>\n",
       "      <td>126134</td>\n",
       "      <td>39.3</td>\n",
       "      <td>91261</td>\n",
       "      <td>28.4</td>\n",
       "    </tr>\n",
       "    <tr>\n",
       "      <th>16</th>\n",
       "      <td>2016</td>\n",
       "      <td>132414</td>\n",
       "      <td>40.9</td>\n",
       "      <td>96970</td>\n",
       "      <td>30.0</td>\n",
       "    </tr>\n",
       "    <tr>\n",
       "      <th>17</th>\n",
       "      <td>2017</td>\n",
       "      <td>135666</td>\n",
       "      <td>41.7</td>\n",
       "      <td>99708</td>\n",
       "      <td>30.7</td>\n",
       "    </tr>\n",
       "    <tr>\n",
       "      <th>18</th>\n",
       "      <td>2018</td>\n",
       "      <td>143765</td>\n",
       "      <td>44.0</td>\n",
       "      <td>101363</td>\n",
       "      <td>31.0</td>\n",
       "    </tr>\n",
       "    <tr>\n",
       "      <th>19</th>\n",
       "      <td>2019</td>\n",
       "      <td>139815</td>\n",
       "      <td>42.6</td>\n",
       "      <td>98213</td>\n",
       "      <td>29.9</td>\n",
       "    </tr>\n",
       "  </tbody>\n",
       "</table>\n",
       "</div>"
      ],
      "text/plain": [
       "    year  revised rape  revised rape rate  legacy rape  legacy rape rate\n",
       "13  2013        113695               35.9        82109              25.9\n",
       "14  2014        118027               37.0        84864              26.6\n",
       "15  2015        126134               39.3        91261              28.4\n",
       "16  2016        132414               40.9        96970              30.0\n",
       "17  2017        135666               41.7        99708              30.7\n",
       "18  2018        143765               44.0       101363              31.0\n",
       "19  2019        139815               42.6        98213              29.9"
      ]
     },
     "execution_count": 5,
     "metadata": {},
     "output_type": "execute_result"
    }
   ],
   "source": [
    "rape = raw_13[13:]\n",
    "rape[\"year\"].iloc[5] = 2018\n",
    "rape[\"revised rape\"] = pd.to_numeric(rape[\"revised rape\"])\n",
    "rape"
   ]
  },
  {
   "cell_type": "markdown",
   "id": "3e0c9a17",
   "metadata": {},
   "source": [
    "## As the very beginning, it's important to see the trend of sexual offense cases in US in previous years, from 2013-2019.\n",
    "-note: After 2019, rape is categorized as sexual offense under violent crime. They share the same definition.\n",
    "\n",
    "## Observe a General Trend: Number of Rape Cases from 2013-2019 in US"
   ]
  },
  {
   "cell_type": "code",
   "execution_count": 6,
   "id": "b5e66c28",
   "metadata": {},
   "outputs": [
    {
     "data": {
      "text/plain": [
       "Text(0.5, 1.0, 'Number of Rape Cases in US from 2013-2019')"
      ]
     },
     "execution_count": 6,
     "metadata": {},
     "output_type": "execute_result"
    },
    {
     "data": {
      "image/png": "[encoded data removed]",
      "text/plain": [
       "<Figure size 720x504 with 1 Axes>"
      ]
     },
     "metadata": {
      "needs_background": "light"
     },
     "output_type": "display_data"
    }
   ],
   "source": [
    "plt.figure(figsize=(10,7))\n",
    "plt.plot(rape[\"year\"], rape[\"revised rape\"], label = \"revised definition\")\n",
    "plt.plot(rape[\"year\"], rape[\"legacy rape\"], label = \"legacy definition\")\n",
    "plt.legend(loc='best')\n",
    "\n",
    "plt.xlabel(\"year\", fontsize = 12)\n",
    "plt.ylabel(\"number of cases\", fontsize = 12)\n",
    "plt.title(\"Number of Rape Cases in US from 2013-2019\")\n",
    "# sns.lineplot(rape[\"year\"], rape[\"legacy rape\"])\n",
    "# sns.lineplot(rape[\"year\"], rape[\"revised rape\"])"
   ]
  },
  {
   "cell_type": "code",
   "execution_count": 7,
   "id": "31687c24",
   "metadata": {},
   "outputs": [],
   "source": [
    "# rape[\"revised rape\"] = pd.to_numeric(rape[\"revised rape\"])\n",
    "# sns.lineplot(data = rape, x = \"year\", y = \"legacy rape\", label = \"legacy rape\")\n",
    "# sns.lineplot(data = rape, x = \"year\", y = \"revised rape\", label = \"revised rape\")\n",
    "\n",
    "# sns.lineplot(x = \"year\", data=rape[[\"year\", \"legacy rape\", \"revised rape\"]])"
   ]
  },
  {
   "cell_type": "markdown",
   "id": "24522000",
   "metadata": {},
   "source": [
    "### The revised definition of rape includes both female and male victims (rape), sodomy, and sextual assult with an object, where are legacy definition only includes female victims (rape). The legacy rape rate increased 15.4% from 2013 to 2019.\n"
   ]
  },
  {
   "cell_type": "markdown",
   "id": "a58f003a-799f-45dd-8977-74c53465f9fc",
   "metadata": {},
   "source": [
    "## Data Preparation"
   ]
  },
  {
   "cell_type": "code",
   "execution_count": 8,
   "id": "6ca76f53-3e9a-464c-8ccb-bdbfa8800a48",
   "metadata": {},
   "outputs": [],
   "source": [
    "# sex_rate = the number of reported sexual assults per 100,000 people\n",
    "# data scource: FBI Crime Data Explorer\n",
    "so = pd.read_csv('./data/2021_states.csv', header=0, index_col=0)\n",
    "so_2021 = pd.read_excel(\"./data/state_sex.xlsx\", skiprows = 5, skipfooter = 1)"
   ]
  },
  {
   "cell_type": "code",
   "execution_count": 137,
   "id": "e597f349",
   "metadata": {
    "scrolled": true
   },
   "outputs": [
    {
     "data": {
      "text/html": [
       "<div>\n",
       "<style scoped>\n",
       "    .dataframe tbody tr th:only-of-type {\n",
       "        vertical-align: middle;\n",
       "    }\n",
       "\n",
       "    .dataframe tbody tr th {\n",
       "        vertical-align: top;\n",
       "    }\n",
       "\n",
       "    .dataframe thead th {\n",
       "        text-align: right;\n",
       "    }\n",
       "</style>\n",
       "<table border=\"1\" class=\"dataframe\">\n",
       "  <thead>\n",
       "    <tr style=\"text-align: right;\">\n",
       "      <th></th>\n",
       "      <th>state</th>\n",
       "      <th>reported_rape_cases</th>\n",
       "      <th>rape_arrests</th>\n",
       "      <th>sex_offense_arrests</th>\n",
       "      <th>salary</th>\n",
       "      <th>score.x</th>\n",
       "      <th>score.y</th>\n",
       "      <th>policing_correction_spend_per_capita</th>\n",
       "      <th>policing_correction_expenditure</th>\n",
       "      <th>correction_spending_per</th>\n",
       "      <th>state_codes</th>\n",
       "      <th>sex offenses</th>\n",
       "      <th>population</th>\n",
       "      <th>sex_rate</th>\n",
       "      <th>year</th>\n",
       "    </tr>\n",
       "  </thead>\n",
       "  <tbody>\n",
       "    <tr>\n",
       "      <th>44</th>\n",
       "      <td>Utah</td>\n",
       "      <td>5134</td>\n",
       "      <td>291</td>\n",
       "      <td>498</td>\n",
       "      <td>54678</td>\n",
       "      <td>55.53</td>\n",
       "      <td>20.3</td>\n",
       "      <td>484</td>\n",
       "      <td>1553</td>\n",
       "      <td>68%</td>\n",
       "      <td>UT</td>\n",
       "      <td>5134</td>\n",
       "      <td>3337975</td>\n",
       "      <td>153.8</td>\n",
       "      <td>2021</td>\n",
       "    </tr>\n",
       "    <tr>\n",
       "      <th>26</th>\n",
       "      <td>Montana</td>\n",
       "      <td>1680</td>\n",
       "      <td>62</td>\n",
       "      <td>118</td>\n",
       "      <td>52135</td>\n",
       "      <td>51.55</td>\n",
       "      <td>55.1</td>\n",
       "      <td>608</td>\n",
       "      <td>649</td>\n",
       "      <td>74%</td>\n",
       "      <td>MT</td>\n",
       "      <td>1680</td>\n",
       "      <td>1104271</td>\n",
       "      <td>152.1</td>\n",
       "      <td>2021</td>\n",
       "    </tr>\n",
       "    <tr>\n",
       "      <th>34</th>\n",
       "      <td>North Dakota</td>\n",
       "      <td>1121</td>\n",
       "      <td>51</td>\n",
       "      <td>81</td>\n",
       "      <td>53525</td>\n",
       "      <td>58.42</td>\n",
       "      <td>25.5</td>\n",
       "      <td>574</td>\n",
       "      <td>437</td>\n",
       "      <td>70%</td>\n",
       "      <td>ND</td>\n",
       "      <td>1121</td>\n",
       "      <td>774948</td>\n",
       "      <td>144.7</td>\n",
       "      <td>2021</td>\n",
       "    </tr>\n",
       "    <tr>\n",
       "      <th>41</th>\n",
       "      <td>South Dakota</td>\n",
       "      <td>1155</td>\n",
       "      <td>36</td>\n",
       "      <td>51</td>\n",
       "      <td>48984</td>\n",
       "      <td>51.19</td>\n",
       "      <td>34.2</td>\n",
       "      <td>478</td>\n",
       "      <td>423</td>\n",
       "      <td>85%</td>\n",
       "      <td>SD</td>\n",
       "      <td>1155</td>\n",
       "      <td>895376</td>\n",
       "      <td>129.0</td>\n",
       "      <td>2021</td>\n",
       "    </tr>\n",
       "    <tr>\n",
       "      <th>29</th>\n",
       "      <td>New Hampshire</td>\n",
       "      <td>1790</td>\n",
       "      <td>71</td>\n",
       "      <td>100</td>\n",
       "      <td>59622</td>\n",
       "      <td>59.19</td>\n",
       "      <td>42.0</td>\n",
       "      <td>525</td>\n",
       "      <td>714</td>\n",
       "      <td>45%</td>\n",
       "      <td>NH</td>\n",
       "      <td>1790</td>\n",
       "      <td>1388992</td>\n",
       "      <td>128.9</td>\n",
       "      <td>2021</td>\n",
       "    </tr>\n",
       "  </tbody>\n",
       "</table>\n",
       "</div>"
      ],
      "text/plain": [
       "            state  reported_rape_cases  rape_arrests  sex_offense_arrests  \\\n",
       "44           Utah                 5134           291                  498   \n",
       "26        Montana                 1680            62                  118   \n",
       "34   North Dakota                 1121            51                   81   \n",
       "41   South Dakota                 1155            36                   51   \n",
       "29  New Hampshire                 1790            71                  100   \n",
       "\n",
       "    salary  score.x  score.y  policing_correction_spend_per_capita  \\\n",
       "44   54678    55.53     20.3                                   484   \n",
       "26   52135    51.55     55.1                                   608   \n",
       "34   53525    58.42     25.5                                   574   \n",
       "41   48984    51.19     34.2                                   478   \n",
       "29   59622    59.19     42.0                                   525   \n",
       "\n",
       "    policing_correction_expenditure correction_spending_per state_codes  \\\n",
       "44                             1553                     68%          UT   \n",
       "26                              649                     74%          MT   \n",
       "34                              437                     70%          ND   \n",
       "41                              423                     85%          SD   \n",
       "29                              714                     45%          NH   \n",
       "\n",
       "    sex offenses  population  sex_rate  year  \n",
       "44          5134     3337975     153.8  2021  \n",
       "26          1680     1104271     152.1  2021  \n",
       "34          1121      774948     144.7  2021  \n",
       "41          1155      895376     129.0  2021  \n",
       "29          1790     1388992     128.9  2021  "
      ]
     },
     "execution_count": 137,
     "metadata": {},
     "output_type": "execute_result"
    }
   ],
   "source": [
    "#state abbr id\n",
    "us_state_to_abbrev = {\n",
    "    \"Alabama\": \"AL\",\n",
    "    \"Alaska\": \"AK\",\n",
    "    \"Arizona\": \"AZ\",\n",
    "    \"Arkansas\": \"AR\",\n",
    "    \"California\": \"CA\",\n",
    "    \"Colorado\": \"CO\",\n",
    "    \"Connecticut\": \"CT\",\n",
    "    \"Delaware\": \"DE\",\n",
    "    \"Florida\": \"FL\",\n",
    "    \"Georgia\": \"GA\",\n",
    "    \"Hawaii\": \"HI\",\n",
    "    \"Idaho\": \"ID\",\n",
    "    \"Illinois\": \"IL\",\n",
    "    \"Indiana\": \"IN\",\n",
    "    \"Iowa\": \"IA\",\n",
    "    \"Kansas\": \"KS\",\n",
    "    \"Kentucky\": \"KY\",\n",
    "    \"Louisiana\": \"LA\",\n",
    "    \"Maine\": \"ME\",\n",
    "    \"Maryland\": \"MD\",\n",
    "    \"Massachusetts\": \"MA\",\n",
    "    \"Michigan\": \"MI\",\n",
    "    \"Minnesota\": \"MN\",\n",
    "    \"Mississippi\": \"MS\",\n",
    "    \"Missouri\": \"MO\",\n",
    "    \"Montana\": \"MT\",\n",
    "    \"Nebraska\": \"NE\",\n",
    "    \"Nevada\": \"NV\",\n",
    "    \"New Hampshire\": \"NH\",\n",
    "    \"New Jersey\": \"NJ\",\n",
    "    \"New Mexico\": \"NM\",\n",
    "    \"New York\": \"NY\",\n",
    "    \"North Carolina\": \"NC\",\n",
    "    \"North Dakota\": \"ND\",\n",
    "    \"Ohio\": \"OH\",\n",
    "    \"Oklahoma\": \"OK\",\n",
    "    \"Oregon\": \"OR\",\n",
    "    \"Pennsylvania\": \"PA\",\n",
    "    \"Rhode Island\": \"RI\",\n",
    "    \"South Carolina\": \"SC\",\n",
    "    \"South Dakota\": \"SD\",\n",
    "    \"Tennessee\": \"TN\",\n",
    "    \"Texas\": \"TX\",\n",
    "    \"Utah\": \"UT\",\n",
    "    \"Vermont\": \"VT\",\n",
    "    \"Virginia\": \"VA\",\n",
    "    \"Washington\": \"WA\",\n",
    "    \"West Virginia\": \"WV\",\n",
    "    \"Wisconsin\": \"WI\",\n",
    "    \"Wyoming\": \"WY\",\n",
    "    \"District of Columbia\": \"DC\",\n",
    "    \"American Samoa\": \"AS\",\n",
    "    \"Guam\": \"GU\",\n",
    "    \"Northern Mariana Islands\": \"MP\",\n",
    "    \"Puerto Rico\": \"PR\",\n",
    "    \"United States Minor Outlying Islands\": \"UM\",\n",
    "    \"U.S. Virgin Islands\": \"VI\",\n",
    "}\n",
    "\n",
    "# apply dict + add sexual offense rate data\n",
    "so['state_codes'] = so['state'].replace(us_state_to_abbrev)\n",
    "so['reported_rape_cases'] = so_2021[\"Sex\\nOffenses\"]\n",
    "\n",
    "rate_state = pd.read_excel(\"./data/sexrate21.xlsx\").dropna(axis = \"columns\")\n",
    "rate_state[\"sex_rate\"] = (rate_state[\"sex offenses\"]/rate_state[\"population\"]*100000).round(1)\n",
    "rate_state.drop(columns = [\"sex offenses\", \"population\"])\n",
    "sexual_factors = so.merge(rate_state, how = \"left\", on = \"state\").rename(columns = {\"avg_salary\": \"salary\"})\n",
    "sexual_factors[\"year\"] = 2021\n",
    "sexual_factors.sort_values(\"sex_rate\", ascending = False).head()"
   ]
  },
  {
   "cell_type": "markdown",
   "id": "a63b9ac5",
   "metadata": {},
   "source": [
    "## Sexual Offense Rate Data: 2015-2020\n",
    "\n",
    "#### Data from: UCR Crime database"
   ]
  },
  {
   "cell_type": "code",
   "execution_count": 10,
   "id": "397418f9",
   "metadata": {},
   "outputs": [],
   "source": [
    "states = [\"Alabama\", \"Alaska\", \"Arizona\", \"Arkansas\", \"California\", \"Colorado\", \n",
    "          \"Connecticut\", \"Delaware\", \"District of Columbia\", \"Florida\", \"Georgia\", \n",
    "          \"Hawaii\", \"Idaho\", \"Illinois\", \"Indiana\", \"Iowa\", \"Kansas\", \"Kentucky\", \n",
    "          \"Louisiana\", \"Maine\", \"Maryland\", \"Massachusetts\", \"Michigan\", \"Minnesota\", \n",
    "          \"Mississippi\", \"Missouri\", \"Montana\", \"Nebraska\", \"Nevada\", \"New Hampshire\", \n",
    "          \"New Jersey\", \"New Mexico\", \"New York\", \"North Carolina\", \"North Dakota\", \n",
    "          \"Ohio\", \"Oklahoma\", \"Oregon\", \"Pennsylvania\", \"Rhode Island\", \"South Carolina\", \n",
    "          \"South Dakota\", \"Tennessee\", \"Texas\", \"Utah\", \"Vermont\", \"Virginia\", \"Washington\", \n",
    "          \"West Virginia\", \"Wisconsin\", \"Wyoming\"]"
   ]
  },
  {
   "cell_type": "code",
   "execution_count": 11,
   "id": "2585a697",
   "metadata": {
    "scrolled": true
   },
   "outputs": [],
   "source": [
    "def sex_data_clean(path, year):\n",
    "    df = pd.read_excel(path, skiprows=3, skipfooter=8)\n",
    "    df = df[df['Unnamed: 2'] == \"Rate per 100,000 inhabitants\"]\n",
    "    df = df[[df.columns[6]]].rename(columns = {df.columns[6]: \"sex_rate\"})\n",
    "    df = df[df[\"sex_rate\"] != df[\"sex_rate\"].min()]\n",
    "    df[\"state\"] = states\n",
    "    df[\"year\"] = year\n",
    "    \n",
    "    return df\n",
    "\n",
    "sex_rate15 = sex_data_clean(\"./data/rape15.xls\", 2015) \n",
    "sex_rate16 = sex_data_clean(\"./data/rape16.xls\", 2016)"
   ]
  },
  {
   "cell_type": "code",
   "execution_count": 12,
   "id": "1a1501a8",
   "metadata": {},
   "outputs": [],
   "source": [
    "def sex_data_later(path, year):\n",
    "    df1 = pd.read_excel(path, skiprows=3, skipfooter=5)\n",
    "    df1 = df1[df1['Unnamed: 2'] == \"Rate per 100,000 inhabitants\"]\n",
    "    df1 = df1[[df1.columns[6]]].rename(columns = {df1.columns[6]: \"sex_rate\"})\n",
    "    df1 = df1[df1[\"sex_rate\"] != df1[\"sex_rate\"].min()]\n",
    "    df1[\"state\"] = states\n",
    "    df1[\"year\"] = year\n",
    "    \n",
    "    return df1\n",
    "\n",
    "sex_rate17 = sex_data_later(\"./data/rape17.xls\", 2017) \n",
    "sex_rate18 = sex_data_later(\"./data/rape18.xls\", 2018) \n",
    "sex_rate19 = sex_data_later(\"./data/rape19.xls\", 2019)\n",
    "sex_rate20 = pd.read_excel(\"./data/rate_sex20.xlsx\")\n",
    "sex_rate20[\"year\"] = 2020"
   ]
  },
  {
   "cell_type": "code",
   "execution_count": 138,
   "id": "788c91ec",
   "metadata": {},
   "outputs": [
    {
     "data": {
      "text/html": [
       "<div>\n",
       "<style scoped>\n",
       "    .dataframe tbody tr th:only-of-type {\n",
       "        vertical-align: middle;\n",
       "    }\n",
       "\n",
       "    .dataframe tbody tr th {\n",
       "        vertical-align: top;\n",
       "    }\n",
       "\n",
       "    .dataframe thead th {\n",
       "        text-align: right;\n",
       "    }\n",
       "</style>\n",
       "<table border=\"1\" class=\"dataframe\">\n",
       "  <thead>\n",
       "    <tr style=\"text-align: right;\">\n",
       "      <th></th>\n",
       "      <th>sex_rate</th>\n",
       "      <th>state</th>\n",
       "      <th>year</th>\n",
       "    </tr>\n",
       "  </thead>\n",
       "  <tbody>\n",
       "    <tr>\n",
       "      <th>10</th>\n",
       "      <td>42.0</td>\n",
       "      <td>Alabama</td>\n",
       "      <td>2015</td>\n",
       "    </tr>\n",
       "    <tr>\n",
       "      <th>19</th>\n",
       "      <td>122.0</td>\n",
       "      <td>Alaska</td>\n",
       "      <td>2015</td>\n",
       "    </tr>\n",
       "    <tr>\n",
       "      <th>29</th>\n",
       "      <td>45.5</td>\n",
       "      <td>Arizona</td>\n",
       "      <td>2015</td>\n",
       "    </tr>\n",
       "    <tr>\n",
       "      <th>40</th>\n",
       "      <td>64.8</td>\n",
       "      <td>Arkansas</td>\n",
       "      <td>2015</td>\n",
       "    </tr>\n",
       "    <tr>\n",
       "      <th>49</th>\n",
       "      <td>32.7</td>\n",
       "      <td>California</td>\n",
       "      <td>2015</td>\n",
       "    </tr>\n",
       "  </tbody>\n",
       "</table>\n",
       "</div>"
      ],
      "text/plain": [
       "    sex_rate       state  year\n",
       "10      42.0     Alabama  2015\n",
       "19     122.0      Alaska  2015\n",
       "29      45.5     Arizona  2015\n",
       "40      64.8    Arkansas  2015\n",
       "49      32.7  California  2015"
      ]
     },
     "execution_count": 138,
     "metadata": {},
     "output_type": "execute_result"
    }
   ],
   "source": [
    "sex_list = [sex_rate15, sex_rate16, sex_rate17, sex_rate18, sex_rate19, sex_rate20]\n",
    "offense_rate = pd.concat(sex_list)\n",
    "offense_rate = offense_rate[offense_rate[\"state\"] != \"United States\"]\n",
    "offense_rate.head()"
   ]
  },
  {
   "cell_type": "markdown",
   "id": "7c6072c3",
   "metadata": {},
   "source": [
    "## Police Correction Spending Data 2015-2020\n",
    "\n",
    "##### data from: Bureau of Justice Statistics and US Census Bureau"
   ]
  },
  {
   "cell_type": "code",
   "execution_count": 14,
   "id": "93b5904d",
   "metadata": {},
   "outputs": [],
   "source": [
    "def clean_later(path): \n",
    "    data = pd.read_csv(path)\n",
    "    data = data[[\"state\", \"police_correction_per_capita\", \"year\"]]\n",
    "    data = data.rename(columns = {\"police_correction_per_capita\": \"policing_correction_spend_per_capita\"})\n",
    "    data[\"policing_correction_spend_per_capita\"] = data[\"policing_correction_spend_per_capita\"].round(2)\n",
    "    return data\n",
    "    \n",
    "police18 = clean_later(\"./data/police_correction_18.csv\")\n",
    "police19 = clean_later(\"./data/police_correction_19.csv\")\n",
    "police20 = clean_later(\"./data/police_correction_20.csv\")"
   ]
  },
  {
   "cell_type": "code",
   "execution_count": 15,
   "id": "e785ddcf",
   "metadata": {},
   "outputs": [],
   "source": [
    "police17 = pd.read_csv(\"./data/jeeus17/capita17.csv\", skiprows = 10, skipfooter = 3, engine = \"python\").drop(columns=[\"Unnamed: 1\",\n",
    "                                                                                                                      \"2017 population\",\n",
    "                                                                                                                      \"All government functions\",\n",
    "                                                                                                                      \"Total justice system\",\n",
    "                                                                                                                      \"Judicial and legal functions\"]).dropna()\n",
    "police17 = police17.rename(columns = {\"Jurisdiction\": \"state\"})\n",
    "police17[\"Police protection\"] = police17[\"Police protection\"].str.replace('$', '', regex = True).astype(int)\n",
    "police17[\"Corrections\"] = police17[\"Corrections\"].str.replace('$', '', regex = True).astype(int)\n",
    "\n",
    "police17[\"policing_correction_spend_per_capita\"] = police17[\"Police protection\"] + police17[\"Corrections\"]\n",
    "police17[\"year\"] = 2017\n",
    "police17 = police17.drop(columns = [\"Police protection\", \"Corrections\"])\n"
   ]
  },
  {
   "cell_type": "code",
   "execution_count": 16,
   "id": "ed4e3b9b",
   "metadata": {},
   "outputs": [],
   "source": [
    "def clean_police_data(path, year):\n",
    "    df = pd.read_csv(path, skiprows = 11, skipfooter = 1, engine = \"python\")\n",
    "    df = df[[\"State\", \"Police protection per capita expenditure\", \"Corrections per capita expenditure\"]].drop([0])\n",
    "    df = df.rename(columns = {\"State\": \"state\"})\n",
    "    df[\"policing_correction_spend_per_capita\"] = df[\"Police protection per capita expenditure\"] + df[\"Corrections per capita expenditure\"]\n",
    "    df = df.drop(columns = [\"Police protection per capita expenditure\", \"Corrections per capita expenditure\"])\n",
    "    df[\"year\"] = year\n",
    "    \n",
    "    return df\n",
    "    \n",
    "police16 = clean_police_data(\"./data/jeee16f/capita16.csv\", 2016)\n"
   ]
  },
  {
   "cell_type": "code",
   "execution_count": 17,
   "id": "a2db7404",
   "metadata": {},
   "outputs": [],
   "source": [
    "police15 = clean_police_data(\"./data/jeee15fu/capita15.csv\", 2015)\n",
    "police14 = clean_police_data(\"./data/jeee14fu/capita14.csv\", 2014)"
   ]
  },
  {
   "cell_type": "code",
   "execution_count": 18,
   "id": "717cc8bd",
   "metadata": {},
   "outputs": [],
   "source": [
    "police13 = pd.read_csv(\"./data/jeee13f/capita13.csv\", skipfooter = 1, engine = \"python\")\n",
    "police13 = police13.rename(columns = {\"State\": \"state\"})\n",
    "police13 = police13[[\"state\", \"Police Protection\", \"Corrections\"]]\n",
    "police13[\"policing_correction_spend_per_capita\"] = police13[\"Police Protection\"] + police13[\"Corrections\"]\n",
    "police13[\"year\"] = 2013\n",
    "police13 = police13.drop(columns = [\"Police Protection\", \"Corrections\"])\n"
   ]
  },
  {
   "cell_type": "code",
   "execution_count": 19,
   "id": "987ba180",
   "metadata": {},
   "outputs": [
    {
     "data": {
      "text/html": [
       "<div>\n",
       "<style scoped>\n",
       "    .dataframe tbody tr th:only-of-type {\n",
       "        vertical-align: middle;\n",
       "    }\n",
       "\n",
       "    .dataframe tbody tr th {\n",
       "        vertical-align: top;\n",
       "    }\n",
       "\n",
       "    .dataframe thead th {\n",
       "        text-align: right;\n",
       "    }\n",
       "</style>\n",
       "<table border=\"1\" class=\"dataframe\">\n",
       "  <thead>\n",
       "    <tr style=\"text-align: right;\">\n",
       "      <th></th>\n",
       "      <th>state</th>\n",
       "      <th>policing_correction_spend_per_capita</th>\n",
       "      <th>year</th>\n",
       "    </tr>\n",
       "  </thead>\n",
       "  <tbody>\n",
       "    <tr>\n",
       "      <th>1</th>\n",
       "      <td>Alabama</td>\n",
       "      <td>408.21</td>\n",
       "      <td>2015</td>\n",
       "    </tr>\n",
       "    <tr>\n",
       "      <th>2</th>\n",
       "      <td>Alaska</td>\n",
       "      <td>1008.08</td>\n",
       "      <td>2015</td>\n",
       "    </tr>\n",
       "    <tr>\n",
       "      <th>3</th>\n",
       "      <td>Arizona</td>\n",
       "      <td>556.23</td>\n",
       "      <td>2015</td>\n",
       "    </tr>\n",
       "    <tr>\n",
       "      <th>4</th>\n",
       "      <td>Arkansas</td>\n",
       "      <td>404.77</td>\n",
       "      <td>2015</td>\n",
       "    </tr>\n",
       "    <tr>\n",
       "      <th>5</th>\n",
       "      <td>California</td>\n",
       "      <td>817.37</td>\n",
       "      <td>2015</td>\n",
       "    </tr>\n",
       "    <tr>\n",
       "      <th>...</th>\n",
       "      <td>...</td>\n",
       "      <td>...</td>\n",
       "      <td>...</td>\n",
       "    </tr>\n",
       "    <tr>\n",
       "      <th>46</th>\n",
       "      <td>Virginia</td>\n",
       "      <td>648.70</td>\n",
       "      <td>2020</td>\n",
       "    </tr>\n",
       "    <tr>\n",
       "      <th>47</th>\n",
       "      <td>Washington</td>\n",
       "      <td>600.46</td>\n",
       "      <td>2020</td>\n",
       "    </tr>\n",
       "    <tr>\n",
       "      <th>48</th>\n",
       "      <td>West Virginia</td>\n",
       "      <td>491.23</td>\n",
       "      <td>2020</td>\n",
       "    </tr>\n",
       "    <tr>\n",
       "      <th>49</th>\n",
       "      <td>Wisconsin</td>\n",
       "      <td>596.28</td>\n",
       "      <td>2020</td>\n",
       "    </tr>\n",
       "    <tr>\n",
       "      <th>50</th>\n",
       "      <td>Wyoming</td>\n",
       "      <td>784.72</td>\n",
       "      <td>2020</td>\n",
       "    </tr>\n",
       "  </tbody>\n",
       "</table>\n",
       "<p>306 rows × 3 columns</p>\n",
       "</div>"
      ],
      "text/plain": [
       "            state  policing_correction_spend_per_capita  year\n",
       "1         Alabama                                408.21  2015\n",
       "2          Alaska                               1008.08  2015\n",
       "3         Arizona                                556.23  2015\n",
       "4        Arkansas                                404.77  2015\n",
       "5      California                                817.37  2015\n",
       "..            ...                                   ...   ...\n",
       "46       Virginia                                648.70  2020\n",
       "47     Washington                                600.46  2020\n",
       "48  West Virginia                                491.23  2020\n",
       "49      Wisconsin                                596.28  2020\n",
       "50        Wyoming                                784.72  2020\n",
       "\n",
       "[306 rows x 3 columns]"
      ]
     },
     "execution_count": 19,
     "metadata": {},
     "output_type": "execute_result"
    }
   ],
   "source": [
    "police_list = [police15, police16, police17, police18, police19, police20]\n",
    "police_correct = pd.concat(police_list)\n",
    "police_correct"
   ]
  },
  {
   "cell_type": "markdown",
   "id": "e26c4ecb",
   "metadata": {},
   "source": [
    "## Teacher Salary Data 2015-2020\n",
    "\n",
    "#### Data from: National Center for Education Statistics"
   ]
  },
  {
   "cell_type": "code",
   "execution_count": 20,
   "id": "800df78d",
   "metadata": {},
   "outputs": [
    {
     "data": {
      "text/html": [
       "<div>\n",
       "<style scoped>\n",
       "    .dataframe tbody tr th:only-of-type {\n",
       "        vertical-align: middle;\n",
       "    }\n",
       "\n",
       "    .dataframe tbody tr th {\n",
       "        vertical-align: top;\n",
       "    }\n",
       "\n",
       "    .dataframe thead th {\n",
       "        text-align: right;\n",
       "    }\n",
       "</style>\n",
       "<table border=\"1\" class=\"dataframe\">\n",
       "  <thead>\n",
       "    <tr style=\"text-align: right;\">\n",
       "      <th></th>\n",
       "      <th>year</th>\n",
       "      <th>state</th>\n",
       "      <th>salary</th>\n",
       "    </tr>\n",
       "  </thead>\n",
       "  <tbody>\n",
       "    <tr>\n",
       "      <th>0</th>\n",
       "      <td>2015</td>\n",
       "      <td>Alabama</td>\n",
       "      <td>48939.435703</td>\n",
       "    </tr>\n",
       "    <tr>\n",
       "      <th>1</th>\n",
       "      <td>2015</td>\n",
       "      <td>Alaska</td>\n",
       "      <td>67206.023952</td>\n",
       "    </tr>\n",
       "    <tr>\n",
       "      <th>2</th>\n",
       "      <td>2015</td>\n",
       "      <td>Arizona</td>\n",
       "      <td>45712.781418</td>\n",
       "    </tr>\n",
       "    <tr>\n",
       "      <th>3</th>\n",
       "      <td>2015</td>\n",
       "      <td>Arkansas</td>\n",
       "      <td>48146.111654</td>\n",
       "    </tr>\n",
       "    <tr>\n",
       "      <th>4</th>\n",
       "      <td>2015</td>\n",
       "      <td>California</td>\n",
       "      <td>73025.075984</td>\n",
       "    </tr>\n",
       "    <tr>\n",
       "      <th>5</th>\n",
       "      <td>2015</td>\n",
       "      <td>Colorado</td>\n",
       "      <td>50164.658250</td>\n",
       "    </tr>\n",
       "    <tr>\n",
       "      <th>6</th>\n",
       "      <td>2015</td>\n",
       "      <td>Connecticut</td>\n",
       "      <td>72193.495192</td>\n",
       "    </tr>\n",
       "    <tr>\n",
       "      <th>7</th>\n",
       "      <td>2015</td>\n",
       "      <td>Delaware</td>\n",
       "      <td>59594.945515</td>\n",
       "    </tr>\n",
       "    <tr>\n",
       "      <th>8</th>\n",
       "      <td>2015</td>\n",
       "      <td>District of Columbia</td>\n",
       "      <td>76000.041167</td>\n",
       "    </tr>\n",
       "    <tr>\n",
       "      <th>9</th>\n",
       "      <td>2015</td>\n",
       "      <td>Florida</td>\n",
       "      <td>49323.009894</td>\n",
       "    </tr>\n",
       "  </tbody>\n",
       "</table>\n",
       "</div>"
      ],
      "text/plain": [
       "   year                 state        salary\n",
       "0  2015               Alabama  48939.435703\n",
       "1  2015                Alaska  67206.023952\n",
       "2  2015               Arizona  45712.781418\n",
       "3  2015              Arkansas  48146.111654\n",
       "4  2015            California  73025.075984\n",
       "5  2015              Colorado  50164.658250\n",
       "6  2015           Connecticut  72193.495192\n",
       "7  2015              Delaware  59594.945515\n",
       "8  2015  District of Columbia  76000.041167\n",
       "9  2015               Florida  49323.009894"
      ]
     },
     "execution_count": 20,
     "metadata": {},
     "output_type": "execute_result"
    }
   ],
   "source": [
    "salary_1516 = pd.read_excel(\"./data/salary2016.xls\", skiprows = 2, skipfooter = 4).drop([0, 1]).dropna()\n",
    "salary_1516 = salary_1516.rename(columns = {\"Unnamed: 0\": \"state\", \"2014-15.1\": \"salary-2015\", \"2015-16.1\": \"salary-2016\"})\n",
    "salary_1516 = salary_1516[[\"state\", \"salary-2015\", \"salary-2016\"]]\n",
    "salary_1516[\"state\"] = salary_1516[\"state\"].str.replace(r\".\", r\"\", regex=False) #remove dots\n",
    "salary_1516[\"id\"] = range(0, len(salary_1516[\"state\"]))\n",
    "salary_1516 = pd.wide_to_long(salary_1516, stubnames='salary', i=\"id\", j='year',\n",
    "                    sep='-', suffix=r'\\w+').reset_index().drop(columns = [\"id\"])\n",
    "salary_1516[\"state\"] = salary_1516[\"state\"].str.rstrip()\n",
    "salary_1516.loc[8, \"state\"] = \"District of Columbia\"\n",
    "salary_1516.loc[59, \"state\"] = \"District of Columbia\"\n",
    "salary_1516.head(10)\n"
   ]
  },
  {
   "cell_type": "code",
   "execution_count": 21,
   "id": "fea8a627",
   "metadata": {},
   "outputs": [],
   "source": [
    "salary_1718 = pd.read_excel(\"./data/salary2018.xls\", skiprows = 2, skipfooter = 3).drop([0, 1]).dropna()\n",
    "salary_1718 = salary_1718.rename(columns = {\"Unnamed: 0\": \"state\", \"2016-17.1\": \"salary-2017\", \"2017-18.1\": \"salary-2018\"})\n",
    "salary_1718 = salary_1718[[\"state\", \"salary-2017\", \"salary-2018\"]]\n",
    "salary_1718[\"state\"] = salary_1718[\"state\"].str.replace(r\".\", r\"\", regex=False)\n",
    "salary_1718[\"id\"] = range(0, len(salary_1718[\"state\"]))\n",
    "salary_1718 = pd.wide_to_long(salary_1718, stubnames='salary', i=\"id\", j='year',\n",
    "                    sep='-', suffix=r'\\w+').reset_index().drop(columns = [\"id\"])\n",
    "salary_1718[\"state\"] = salary_1718[\"state\"].str.rstrip()\n",
    "salary_1718.loc[8, \"state\"] = \"District of Columbia\"\n",
    "salary_1718.loc[59, \"state\"] = \"District of Columbia\"\n",
    "#salary_1718\n"
   ]
  },
  {
   "cell_type": "code",
   "execution_count": 22,
   "id": "425ba87d",
   "metadata": {},
   "outputs": [
    {
     "data": {
      "text/html": [
       "<div>\n",
       "<style scoped>\n",
       "    .dataframe tbody tr th:only-of-type {\n",
       "        vertical-align: middle;\n",
       "    }\n",
       "\n",
       "    .dataframe tbody tr th {\n",
       "        vertical-align: top;\n",
       "    }\n",
       "\n",
       "    .dataframe thead th {\n",
       "        text-align: right;\n",
       "    }\n",
       "</style>\n",
       "<table border=\"1\" class=\"dataframe\">\n",
       "  <thead>\n",
       "    <tr style=\"text-align: right;\">\n",
       "      <th></th>\n",
       "      <th>year</th>\n",
       "      <th>state</th>\n",
       "      <th>salary</th>\n",
       "    </tr>\n",
       "  </thead>\n",
       "  <tbody>\n",
       "    <tr>\n",
       "      <th>0</th>\n",
       "      <td>2019</td>\n",
       "      <td>Alabama</td>\n",
       "      <td>52822.603211</td>\n",
       "    </tr>\n",
       "    <tr>\n",
       "      <th>1</th>\n",
       "      <td>2019</td>\n",
       "      <td>Alaska</td>\n",
       "      <td>71376.378816</td>\n",
       "    </tr>\n",
       "    <tr>\n",
       "      <th>2</th>\n",
       "      <td>2019</td>\n",
       "      <td>Arizona</td>\n",
       "      <td>51140.697561</td>\n",
       "    </tr>\n",
       "    <tr>\n",
       "      <th>3</th>\n",
       "      <td>2019</td>\n",
       "      <td>Arkansas</td>\n",
       "      <td>50211.383752</td>\n",
       "    </tr>\n",
       "    <tr>\n",
       "      <th>4</th>\n",
       "      <td>2019</td>\n",
       "      <td>California</td>\n",
       "      <td>84358.334136</td>\n",
       "    </tr>\n",
       "    <tr>\n",
       "      <th>5</th>\n",
       "      <td>2019</td>\n",
       "      <td>Colorado</td>\n",
       "      <td>55794.376115</td>\n",
       "    </tr>\n",
       "    <tr>\n",
       "      <th>6</th>\n",
       "      <td>2019</td>\n",
       "      <td>Connecticut</td>\n",
       "      <td>77661.180844</td>\n",
       "    </tr>\n",
       "    <tr>\n",
       "      <th>7</th>\n",
       "      <td>2019</td>\n",
       "      <td>Delaware</td>\n",
       "      <td>64657.897010</td>\n",
       "    </tr>\n",
       "    <tr>\n",
       "      <th>8</th>\n",
       "      <td>2019</td>\n",
       "      <td>District of Columbia</td>\n",
       "      <td>79704.655582</td>\n",
       "    </tr>\n",
       "    <tr>\n",
       "      <th>9</th>\n",
       "      <td>2019</td>\n",
       "      <td>Florida</td>\n",
       "      <td>49069.800449</td>\n",
       "    </tr>\n",
       "  </tbody>\n",
       "</table>\n",
       "</div>"
      ],
      "text/plain": [
       "   year                 state        salary\n",
       "0  2019               Alabama  52822.603211\n",
       "1  2019                Alaska  71376.378816\n",
       "2  2019               Arizona  51140.697561\n",
       "3  2019              Arkansas  50211.383752\n",
       "4  2019            California  84358.334136\n",
       "5  2019              Colorado  55794.376115\n",
       "6  2019           Connecticut  77661.180844\n",
       "7  2019              Delaware  64657.897010\n",
       "8  2019  District of Columbia  79704.655582\n",
       "9  2019               Florida  49069.800449"
      ]
     },
     "execution_count": 22,
     "metadata": {},
     "output_type": "execute_result"
    }
   ],
   "source": [
    "salary_1920 = pd.read_excel(\"./data/salary19-20.xls\", skiprows = 2, skipfooter = 3).drop([0, 1]).dropna()\n",
    "salary_1920 = salary_1920.rename(columns = {\"Unnamed: 0\": \"state\", \"2018-19.1\": \"salary-2019\", \"2019-20.1\": \"salary-2020\"})\n",
    "salary_1920 = salary_1920[[\"state\", \"salary-2019\", \"salary-2020\"]]\n",
    "salary_1920[\"state\"] = salary_1920[\"state\"].str.replace(r\".\", r\"\", regex=False)\n",
    "salary_1920[\"id\"] = range(0, len(salary_1920[\"state\"]))\n",
    "salary_1920 = pd.wide_to_long(salary_1920, stubnames='salary', i=\"id\", j='year',\n",
    "                    sep='-', suffix=r'\\w+').reset_index().drop(columns = [\"id\"])\n",
    "salary_1920[\"state\"] = salary_1920[\"state\"].str.rstrip()\n",
    "salary_1920.loc[8, \"state\"] = \"District of Columbia\"\n",
    "salary_1920.loc[59, \"state\"] = \"District of Columbia\"\n",
    "salary_1920.head(10)\n"
   ]
  },
  {
   "cell_type": "code",
   "execution_count": 23,
   "id": "6616a1d9",
   "metadata": {
    "scrolled": true
   },
   "outputs": [
    {
     "data": {
      "text/html": [
       "<div>\n",
       "<style scoped>\n",
       "    .dataframe tbody tr th:only-of-type {\n",
       "        vertical-align: middle;\n",
       "    }\n",
       "\n",
       "    .dataframe tbody tr th {\n",
       "        vertical-align: top;\n",
       "    }\n",
       "\n",
       "    .dataframe thead th {\n",
       "        text-align: right;\n",
       "    }\n",
       "</style>\n",
       "<table border=\"1\" class=\"dataframe\">\n",
       "  <thead>\n",
       "    <tr style=\"text-align: right;\">\n",
       "      <th></th>\n",
       "      <th>year</th>\n",
       "      <th>state</th>\n",
       "      <th>salary</th>\n",
       "    </tr>\n",
       "  </thead>\n",
       "  <tbody>\n",
       "    <tr>\n",
       "      <th>0</th>\n",
       "      <td>2015</td>\n",
       "      <td>Alabama</td>\n",
       "      <td>48939.44</td>\n",
       "    </tr>\n",
       "    <tr>\n",
       "      <th>1</th>\n",
       "      <td>2015</td>\n",
       "      <td>Alaska</td>\n",
       "      <td>67206.02</td>\n",
       "    </tr>\n",
       "    <tr>\n",
       "      <th>2</th>\n",
       "      <td>2015</td>\n",
       "      <td>Arizona</td>\n",
       "      <td>45712.78</td>\n",
       "    </tr>\n",
       "    <tr>\n",
       "      <th>3</th>\n",
       "      <td>2015</td>\n",
       "      <td>Arkansas</td>\n",
       "      <td>48146.11</td>\n",
       "    </tr>\n",
       "    <tr>\n",
       "      <th>4</th>\n",
       "      <td>2015</td>\n",
       "      <td>California</td>\n",
       "      <td>73025.08</td>\n",
       "    </tr>\n",
       "  </tbody>\n",
       "</table>\n",
       "</div>"
      ],
      "text/plain": [
       "   year       state    salary\n",
       "0  2015     Alabama  48939.44\n",
       "1  2015      Alaska  67206.02\n",
       "2  2015     Arizona  45712.78\n",
       "3  2015    Arkansas  48146.11\n",
       "4  2015  California  73025.08"
      ]
     },
     "execution_count": 23,
     "metadata": {},
     "output_type": "execute_result"
    }
   ],
   "source": [
    "df_list = [salary_1516, salary_1718, salary_1920]\n",
    "teacher_salary = pd.concat(df_list)\n",
    "teacher_salary[\"salary\"] = teacher_salary[\"salary\"].round(2)\n",
    "teacher_salary.head()"
   ]
  },
  {
   "cell_type": "markdown",
   "id": "e7ecdf37",
   "metadata": {},
   "source": [
    "## State GDP Data: 2015-2020"
   ]
  },
  {
   "cell_type": "code",
   "execution_count": 24,
   "id": "c26c8ef1",
   "metadata": {},
   "outputs": [
    {
     "data": {
      "text/html": [
       "<div>\n",
       "<style scoped>\n",
       "    .dataframe tbody tr th:only-of-type {\n",
       "        vertical-align: middle;\n",
       "    }\n",
       "\n",
       "    .dataframe tbody tr th {\n",
       "        vertical-align: top;\n",
       "    }\n",
       "\n",
       "    .dataframe thead th {\n",
       "        text-align: right;\n",
       "    }\n",
       "</style>\n",
       "<table border=\"1\" class=\"dataframe\">\n",
       "  <thead>\n",
       "    <tr style=\"text-align: right;\">\n",
       "      <th></th>\n",
       "      <th>year</th>\n",
       "      <th>state</th>\n",
       "      <th>gdp_capita</th>\n",
       "    </tr>\n",
       "  </thead>\n",
       "  <tbody>\n",
       "    <tr>\n",
       "      <th>0</th>\n",
       "      <td>2015</td>\n",
       "      <td>Alabama</td>\n",
       "      <td>36818</td>\n",
       "    </tr>\n",
       "    <tr>\n",
       "      <th>1</th>\n",
       "      <td>2015</td>\n",
       "      <td>Alaska</td>\n",
       "      <td>65971</td>\n",
       "    </tr>\n",
       "    <tr>\n",
       "      <th>2</th>\n",
       "      <td>2015</td>\n",
       "      <td>Arizona</td>\n",
       "      <td>38787</td>\n",
       "    </tr>\n",
       "    <tr>\n",
       "      <th>3</th>\n",
       "      <td>2015</td>\n",
       "      <td>Arkansas</td>\n",
       "      <td>36295</td>\n",
       "    </tr>\n",
       "    <tr>\n",
       "      <th>4</th>\n",
       "      <td>2015</td>\n",
       "      <td>California</td>\n",
       "      <td>57637</td>\n",
       "    </tr>\n",
       "  </tbody>\n",
       "</table>\n",
       "</div>"
      ],
      "text/plain": [
       "   year       state  gdp_capita\n",
       "0  2015     Alabama       36818\n",
       "1  2015      Alaska       65971\n",
       "2  2015     Arizona       38787\n",
       "3  2015    Arkansas       36295\n",
       "4  2015  California       57637"
      ]
     },
     "execution_count": 24,
     "metadata": {},
     "output_type": "execute_result"
    }
   ],
   "source": [
    "gdp1517=pd.read_csv(\"./data/gdp13-17.csv\").drop(columns = [\"Fips\"]).rename(columns = {\"Area\": \"state\",\n",
    "                                                                                     \"2015\": \"gdp-2015\", \n",
    "                                                                                     \"2016\": \"gdp-2016\",\n",
    "                                                                                     \"2017\": \"gdp-2017\"})\n",
    "gdp1517 = gdp1517[[\"state\", \"gdp-2015\", \"gdp-2016\", \"gdp-2017\"]]\n",
    "gdp1517 = gdp1517[gdp1517[\"state\"] != \"United States\"]\n",
    "gdp1517.drop(gdp1517.tail(8).index, inplace = True)\n",
    "gdp1517[\"id\"] = range(0, len(gdp1517[\"state\"]))\n",
    "gdp1517 = pd.wide_to_long(gdp1517, stubnames='gdp', i=\"id\", j='year',\n",
    "                    sep='-', suffix=r'\\w+').reset_index().drop(columns = [\"id\"])\n",
    "gdp1517 = gdp1517.rename(columns = {\"gdp\": \"gdp_capita\"})\n",
    "gdp1517.head()"
   ]
  },
  {
   "cell_type": "code",
   "execution_count": 25,
   "id": "7d2786ab",
   "metadata": {},
   "outputs": [],
   "source": [
    "def gdp_data(path, year): \n",
    "    df = pd.read_excel(path, skiprows = 5, skipfooter = 3).drop(columns = [\"GeoFips\"]).rename(columns = \n",
    "                                                                                                       {\"GeoName\": \"state\"})\n",
    "    df[\"gdp_capita\"] = (df[\"gdp\"]*1000000/df[\"pop\"]).round(2)\n",
    "    df = df[[\"state\", \"gdp_capita\"]]\n",
    "    df[\"year\"] = year\n",
    "    \n",
    "    return df\n",
    "gdp18 = gdp_data(\"./data/gdp18.xlsx\", 2018)\n",
    "gdp19 = gdp_data(\"./data/gdp19.xlsx\", 2019)\n",
    "gdp20 = gdp_data(\"./data/gdp20.xlsx\", 2020)\n",
    "\n",
    "gdp21 = pd.read_excel(\"./data/gdp21.xlsx\", skiprows = 4).sort_values(by = \"state\")\n",
    "gdp21[\"year\"] = 2021\n"
   ]
  },
  {
   "cell_type": "code",
   "execution_count": 26,
   "id": "ea63b582",
   "metadata": {},
   "outputs": [
    {
     "data": {
      "text/html": [
       "<div>\n",
       "<style scoped>\n",
       "    .dataframe tbody tr th:only-of-type {\n",
       "        vertical-align: middle;\n",
       "    }\n",
       "\n",
       "    .dataframe tbody tr th {\n",
       "        vertical-align: top;\n",
       "    }\n",
       "\n",
       "    .dataframe thead th {\n",
       "        text-align: right;\n",
       "    }\n",
       "</style>\n",
       "<table border=\"1\" class=\"dataframe\">\n",
       "  <thead>\n",
       "    <tr style=\"text-align: right;\">\n",
       "      <th></th>\n",
       "      <th>state</th>\n",
       "      <th>gdp_capita</th>\n",
       "      <th>year</th>\n",
       "    </tr>\n",
       "  </thead>\n",
       "  <tbody>\n",
       "    <tr>\n",
       "      <th>0</th>\n",
       "      <td>Alabama</td>\n",
       "      <td>40962.35</td>\n",
       "      <td>2018</td>\n",
       "    </tr>\n",
       "    <tr>\n",
       "      <th>1</th>\n",
       "      <td>Alaska</td>\n",
       "      <td>72393.79</td>\n",
       "      <td>2018</td>\n",
       "    </tr>\n",
       "    <tr>\n",
       "      <th>2</th>\n",
       "      <td>Arizona</td>\n",
       "      <td>43944.37</td>\n",
       "      <td>2018</td>\n",
       "    </tr>\n",
       "    <tr>\n",
       "      <th>3</th>\n",
       "      <td>Arkansas</td>\n",
       "      <td>38472.45</td>\n",
       "      <td>2018</td>\n",
       "    </tr>\n",
       "    <tr>\n",
       "      <th>4</th>\n",
       "      <td>California</td>\n",
       "      <td>67044.40</td>\n",
       "      <td>2018</td>\n",
       "    </tr>\n",
       "  </tbody>\n",
       "</table>\n",
       "</div>"
      ],
      "text/plain": [
       "        state  gdp_capita  year\n",
       "0     Alabama    40962.35  2018\n",
       "1      Alaska    72393.79  2018\n",
       "2     Arizona    43944.37  2018\n",
       "3    Arkansas    38472.45  2018\n",
       "4  California    67044.40  2018"
      ]
     },
     "execution_count": 26,
     "metadata": {},
     "output_type": "execute_result"
    }
   ],
   "source": [
    "gdp_list = [gdp18, gdp19, gdp20, gdp1517]\n",
    "gdp = pd.concat(gdp_list)\n",
    "gdp.head()"
   ]
  },
  {
   "cell_type": "markdown",
   "id": "2b5b5ead",
   "metadata": {},
   "source": [
    "## Poverty Rate: 2015-2020\n",
    "\n",
    "#### Data from: kaggle https://www.kaggle.com/code/marshuu/poverty-rate-in-the-us-animation/input"
   ]
  },
  {
   "cell_type": "code",
   "execution_count": 27,
   "id": "5d2b34ba",
   "metadata": {},
   "outputs": [
    {
     "data": {
      "text/html": [
       "<div>\n",
       "<style scoped>\n",
       "    .dataframe tbody tr th:only-of-type {\n",
       "        vertical-align: middle;\n",
       "    }\n",
       "\n",
       "    .dataframe tbody tr th {\n",
       "        vertical-align: top;\n",
       "    }\n",
       "\n",
       "    .dataframe thead th {\n",
       "        text-align: right;\n",
       "    }\n",
       "</style>\n",
       "<table border=\"1\" class=\"dataframe\">\n",
       "  <thead>\n",
       "    <tr style=\"text-align: right;\">\n",
       "      <th></th>\n",
       "      <th>state</th>\n",
       "      <th>poverty_rate</th>\n",
       "      <th>year</th>\n",
       "    </tr>\n",
       "  </thead>\n",
       "  <tbody>\n",
       "    <tr>\n",
       "      <th>1</th>\n",
       "      <td>Alabama</td>\n",
       "      <td>18.5</td>\n",
       "      <td>2015</td>\n",
       "    </tr>\n",
       "    <tr>\n",
       "      <th>2</th>\n",
       "      <td>Alaska</td>\n",
       "      <td>10.4</td>\n",
       "      <td>2015</td>\n",
       "    </tr>\n",
       "    <tr>\n",
       "      <th>3</th>\n",
       "      <td>Arizona</td>\n",
       "      <td>17.4</td>\n",
       "      <td>2015</td>\n",
       "    </tr>\n",
       "    <tr>\n",
       "      <th>4</th>\n",
       "      <td>Arkansas</td>\n",
       "      <td>18.7</td>\n",
       "      <td>2015</td>\n",
       "    </tr>\n",
       "    <tr>\n",
       "      <th>5</th>\n",
       "      <td>California</td>\n",
       "      <td>15.4</td>\n",
       "      <td>2015</td>\n",
       "    </tr>\n",
       "    <tr>\n",
       "      <th>...</th>\n",
       "      <td>...</td>\n",
       "      <td>...</td>\n",
       "      <td>...</td>\n",
       "    </tr>\n",
       "    <tr>\n",
       "      <th>307</th>\n",
       "      <td>Virginia</td>\n",
       "      <td>9.2</td>\n",
       "      <td>2020</td>\n",
       "    </tr>\n",
       "    <tr>\n",
       "      <th>308</th>\n",
       "      <td>Washington</td>\n",
       "      <td>9.5</td>\n",
       "      <td>2020</td>\n",
       "    </tr>\n",
       "    <tr>\n",
       "      <th>309</th>\n",
       "      <td>West Virginia</td>\n",
       "      <td>15.8</td>\n",
       "      <td>2020</td>\n",
       "    </tr>\n",
       "    <tr>\n",
       "      <th>310</th>\n",
       "      <td>Wisconsin</td>\n",
       "      <td>10.0</td>\n",
       "      <td>2020</td>\n",
       "    </tr>\n",
       "    <tr>\n",
       "      <th>311</th>\n",
       "      <td>Wyoming</td>\n",
       "      <td>9.2</td>\n",
       "      <td>2020</td>\n",
       "    </tr>\n",
       "  </tbody>\n",
       "</table>\n",
       "<p>306 rows × 3 columns</p>\n",
       "</div>"
      ],
      "text/plain": [
       "             state  poverty_rate  year\n",
       "1          Alabama          18.5  2015\n",
       "2           Alaska          10.4  2015\n",
       "3          Arizona          17.4  2015\n",
       "4         Arkansas          18.7  2015\n",
       "5       California          15.4  2015\n",
       "..             ...           ...   ...\n",
       "307       Virginia           9.2  2020\n",
       "308     Washington           9.5  2020\n",
       "309  West Virginia          15.8  2020\n",
       "310      Wisconsin          10.0  2020\n",
       "311        Wyoming           9.2  2020\n",
       "\n",
       "[306 rows x 3 columns]"
      ]
     },
     "execution_count": 27,
     "metadata": {},
     "output_type": "execute_result"
    }
   ],
   "source": [
    "poverty = pd.read_csv(\"./data/poverty15-20.csv\").drop(columns = [\"Unnamed: 0\"])\n",
    "poverty1520 = poverty[poverty[\"state\"] != \"United States\"]\n",
    "poverty1520"
   ]
  },
  {
   "cell_type": "markdown",
   "id": "9ce047cb",
   "metadata": {},
   "source": [
    "## Education Spending Purpil: 2016-2021\n",
    "\n",
    "#### Data from: US Census Bureau--Public Elementary-Secondary Education Finance Data"
   ]
  },
  {
   "cell_type": "code",
   "execution_count": 98,
   "id": "3d5b952c",
   "metadata": {},
   "outputs": [
    {
     "data": {
      "text/html": [
       "<div>\n",
       "<style scoped>\n",
       "    .dataframe tbody tr th:only-of-type {\n",
       "        vertical-align: middle;\n",
       "    }\n",
       "\n",
       "    .dataframe tbody tr th {\n",
       "        vertical-align: top;\n",
       "    }\n",
       "\n",
       "    .dataframe thead th {\n",
       "        text-align: right;\n",
       "    }\n",
       "</style>\n",
       "<table border=\"1\" class=\"dataframe\">\n",
       "  <thead>\n",
       "    <tr style=\"text-align: right;\">\n",
       "      <th></th>\n",
       "      <th>state</th>\n",
       "      <th>edu_spending_per_pupil</th>\n",
       "      <th>year</th>\n",
       "    </tr>\n",
       "  </thead>\n",
       "  <tbody>\n",
       "    <tr>\n",
       "      <th>3</th>\n",
       "      <td>Alabama</td>\n",
       "      <td>9242.677695</td>\n",
       "      <td>2016</td>\n",
       "    </tr>\n",
       "    <tr>\n",
       "      <th>4</th>\n",
       "      <td>Alaska</td>\n",
       "      <td>17509.975316</td>\n",
       "      <td>2016</td>\n",
       "    </tr>\n",
       "    <tr>\n",
       "      <th>5</th>\n",
       "      <td>Arizona</td>\n",
       "      <td>7613.006435</td>\n",
       "      <td>2016</td>\n",
       "    </tr>\n",
       "    <tr>\n",
       "      <th>6</th>\n",
       "      <td>Arkansas</td>\n",
       "      <td>9845.568548</td>\n",
       "      <td>2016</td>\n",
       "    </tr>\n",
       "    <tr>\n",
       "      <th>7</th>\n",
       "      <td>California</td>\n",
       "      <td>11495.363449</td>\n",
       "      <td>2016</td>\n",
       "    </tr>\n",
       "  </tbody>\n",
       "</table>\n",
       "</div>"
      ],
      "text/plain": [
       "        state  edu_spending_per_pupil  year\n",
       "3     Alabama             9242.677695  2016\n",
       "4      Alaska            17509.975316  2016\n",
       "5     Arizona             7613.006435  2016\n",
       "6    Arkansas             9845.568548  2016\n",
       "7  California            11495.363449  2016"
      ]
     },
     "execution_count": 98,
     "metadata": {},
     "output_type": "execute_result"
    }
   ],
   "source": [
    "def clean_eduspend(path, year): \n",
    "    raw = pd.read_excel(path, sheet_name = \"8\", skiprows = 8, skipfooter = 6)\n",
    "    raw = raw[[\"Unnamed: 0\", \"Total 1  \"]].dropna(axis = 0).rename(columns = {\"Unnamed: 0\": \"state\",\n",
    "                                                                             \"Total 1  \": \"edu_spending_per_pupil\"})\n",
    "    raw[\"state\"] = raw[\"state\"].str.replace(r\".\", r\"\", regex=False)\n",
    "    raw = raw.drop(1)\n",
    "    raw[\"year\"] = year\n",
    "    \n",
    "    return raw\n",
    "\n",
    "edu_spend16 = clean_eduspend(\"./data/edu spend 16.xls\", 2016)\n",
    "edu_spend17 = clean_eduspend(\"./data/edu spend 17.xls\", 2017)\n",
    "edu_spend18 = clean_eduspend(\"./data/edu spend 18.xls\", 2018)\n",
    "edu_spend19 = clean_eduspend(\"./data/edu spend 19.xls\", 2019)\n",
    "edu_spend20 = clean_eduspend(\"./data/edu spend 20.xls\", 2020)\n",
    "edu_spend16.head()"
   ]
  },
  {
   "cell_type": "markdown",
   "id": "9f7ed6d4",
   "metadata": {},
   "source": [
    "### Due to reporting timing, only 41 states are included in the report. I decide not to include the data in 2021"
   ]
  },
  {
   "cell_type": "code",
   "execution_count": 97,
   "id": "efd407ff",
   "metadata": {},
   "outputs": [],
   "source": [
    "# edu21 = pd.read_excel(\"./data/edu spend 21.xls\", sheet_name = \"Table 1\", skiprows = 5, skipfooter = 9)\n",
    "# edu21 = edu21[[\"Unnamed: 0\", \"Per pupil\"]].dropna(axis = 0).rename(columns = {\"Unnamed: 0\": \"state\",\n",
    "#                                                                              \"Per pupil\": \"edu_spending_per_pupil\"})\n",
    "# edu21[\"state\"] = edu21[\"state\"].str.replace(r\".\", r\"\", regex=False)\n",
    "# edu_spend21 = edu21.drop(3)\n",
    "# edu_spend21[\"year\"] = 2021\n",
    "# edu21\n",
    "\n",
    "edu_list = [edu_spend16, edu_spend17, edu_spend18, edu_spend19, edu_spend20]\n",
    "edu_spending = pd.concat(edu_list)\n"
   ]
  },
  {
   "cell_type": "markdown",
   "id": "28739b17",
   "metadata": {},
   "source": [
    "## Drug Overdoes of Each State 2016-2021\n",
    "#### Data from: CDC--Drug Overdose Mortality by State"
   ]
  },
  {
   "cell_type": "code",
   "execution_count": 30,
   "id": "0ea22138",
   "metadata": {},
   "outputs": [],
   "source": [
    "abbr_states = {\n",
    "        'AK': 'Alaska',\n",
    "        'AL': 'Alabama',\n",
    "        'AR': 'Arkansas',\n",
    "        'AS': 'American Samoa',\n",
    "        'AZ': 'Arizona',\n",
    "        'CA': 'California',\n",
    "        'CO': 'Colorado',\n",
    "        'CT': 'Connecticut',\n",
    "        'DC': 'District of Columbia',\n",
    "        'DE': 'Delaware',\n",
    "        'FL': 'Florida',\n",
    "        'GA': 'Georgia',\n",
    "        'GU': 'Guam',\n",
    "        'HI': 'Hawaii',\n",
    "        'IA': 'Iowa',\n",
    "        'ID': 'Idaho',\n",
    "        'IL': 'Illinois',\n",
    "        'IN': 'Indiana',\n",
    "        'KS': 'Kansas',\n",
    "        'KY': 'Kentucky',\n",
    "        'LA': 'Louisiana',\n",
    "        'MA': 'Massachusetts',\n",
    "        'MD': 'Maryland',\n",
    "        'ME': 'Maine',\n",
    "        'MI': 'Michigan',\n",
    "        'MN': 'Minnesota',\n",
    "        'MO': 'Missouri',\n",
    "        'MP': 'Northern Mariana Islands',\n",
    "        'MS': 'Mississippi',\n",
    "        'MT': 'Montana',\n",
    "        'NA': 'National',\n",
    "        'NC': 'North Carolina',\n",
    "        'ND': 'North Dakota',\n",
    "        'NE': 'Nebraska',\n",
    "        'NH': 'New Hampshire',\n",
    "        'NJ': 'New Jersey',\n",
    "        'NM': 'New Mexico',\n",
    "        'NV': 'Nevada',\n",
    "        'NY': 'New York',\n",
    "        'OH': 'Ohio',\n",
    "        'OK': 'Oklahoma',\n",
    "        'OR': 'Oregon',\n",
    "        'PA': 'Pennsylvania',\n",
    "        'PR': 'Puerto Rico',\n",
    "        'RI': 'Rhode Island',\n",
    "        'SC': 'South Carolina',\n",
    "        'SD': 'South Dakota',\n",
    "        'TN': 'Tennessee',\n",
    "        'TX': 'Texas',\n",
    "        'UT': 'Utah',\n",
    "        'VA': 'Virginia',\n",
    "        'VI': 'Virgin Islands',\n",
    "        'VT': 'Vermont',\n",
    "        'WA': 'Washington',\n",
    "        'WI': 'Wisconsin',\n",
    "        'WV': 'West Virginia',\n",
    "        'WY': 'Wyoming'\n",
    "}"
   ]
  },
  {
   "cell_type": "code",
   "execution_count": 70,
   "id": "15adadcf",
   "metadata": {},
   "outputs": [
    {
     "data": {
      "text/html": [
       "<div>\n",
       "<style scoped>\n",
       "    .dataframe tbody tr th:only-of-type {\n",
       "        vertical-align: middle;\n",
       "    }\n",
       "\n",
       "    .dataframe tbody tr th {\n",
       "        vertical-align: top;\n",
       "    }\n",
       "\n",
       "    .dataframe thead th {\n",
       "        text-align: right;\n",
       "    }\n",
       "</style>\n",
       "<table border=\"1\" class=\"dataframe\">\n",
       "  <thead>\n",
       "    <tr style=\"text-align: right;\">\n",
       "      <th></th>\n",
       "      <th>year</th>\n",
       "      <th>state</th>\n",
       "      <th>drug_mortality</th>\n",
       "    </tr>\n",
       "  </thead>\n",
       "  <tbody>\n",
       "    <tr>\n",
       "      <th>0</th>\n",
       "      <td>2021</td>\n",
       "      <td>Alabama</td>\n",
       "      <td>30.1</td>\n",
       "    </tr>\n",
       "    <tr>\n",
       "      <th>1</th>\n",
       "      <td>2021</td>\n",
       "      <td>Alaska</td>\n",
       "      <td>35.6</td>\n",
       "    </tr>\n",
       "    <tr>\n",
       "      <th>2</th>\n",
       "      <td>2021</td>\n",
       "      <td>Arizona</td>\n",
       "      <td>38.7</td>\n",
       "    </tr>\n",
       "    <tr>\n",
       "      <th>3</th>\n",
       "      <td>2021</td>\n",
       "      <td>Arkansas</td>\n",
       "      <td>22.3</td>\n",
       "    </tr>\n",
       "    <tr>\n",
       "      <th>4</th>\n",
       "      <td>2021</td>\n",
       "      <td>California</td>\n",
       "      <td>26.6</td>\n",
       "    </tr>\n",
       "  </tbody>\n",
       "</table>\n",
       "</div>"
      ],
      "text/plain": [
       "   year       state  drug_mortality\n",
       "0  2021     Alabama            30.1\n",
       "1  2021      Alaska            35.6\n",
       "2  2021     Arizona            38.7\n",
       "3  2021    Arkansas            22.3\n",
       "4  2021  California            26.6"
      ]
     },
     "execution_count": 70,
     "metadata": {},
     "output_type": "execute_result"
    }
   ],
   "source": [
    "drug = pd.read_csv(\"./data/drug16-21.csv\").drop(columns = [\"DEATHS\", \"URL\"])\n",
    "drug.columns = map(str.lower, drug.columns)\n",
    "drug = drug[drug[\"year\"] >= 2016].rename(columns = {\"rate\": \"drug_mortality\"})\n",
    "drug['state'] = drug['state'].replace(abbr_states)\n",
    "drug.head() #missing DC data"
   ]
  },
  {
   "cell_type": "markdown",
   "id": "8d854e40",
   "metadata": {},
   "source": [
    "## Binge Drinking 2016-2021\n",
    "\n",
    "#### Data from:  National Survey on Drug Use and Health"
   ]
  },
  {
   "cell_type": "code",
   "execution_count": 32,
   "id": "951cf2cb",
   "metadata": {},
   "outputs": [
    {
     "data": {
      "text/html": [
       "<div>\n",
       "<style scoped>\n",
       "    .dataframe tbody tr th:only-of-type {\n",
       "        vertical-align: middle;\n",
       "    }\n",
       "\n",
       "    .dataframe tbody tr th {\n",
       "        vertical-align: top;\n",
       "    }\n",
       "\n",
       "    .dataframe thead th {\n",
       "        text-align: right;\n",
       "    }\n",
       "</style>\n",
       "<table border=\"1\" class=\"dataframe\">\n",
       "  <thead>\n",
       "    <tr style=\"text-align: right;\">\n",
       "      <th></th>\n",
       "      <th>state</th>\n",
       "      <th>binge_drink_rate</th>\n",
       "      <th>year</th>\n",
       "    </tr>\n",
       "  </thead>\n",
       "  <tbody>\n",
       "    <tr>\n",
       "      <th>0</th>\n",
       "      <td>Alabama</td>\n",
       "      <td>19.16</td>\n",
       "      <td>2018</td>\n",
       "    </tr>\n",
       "    <tr>\n",
       "      <th>1</th>\n",
       "      <td>Alaska</td>\n",
       "      <td>18.46</td>\n",
       "      <td>2018</td>\n",
       "    </tr>\n",
       "    <tr>\n",
       "      <th>2</th>\n",
       "      <td>Arizona</td>\n",
       "      <td>18.98</td>\n",
       "      <td>2018</td>\n",
       "    </tr>\n",
       "    <tr>\n",
       "      <th>3</th>\n",
       "      <td>Arkansas</td>\n",
       "      <td>16.47</td>\n",
       "      <td>2018</td>\n",
       "    </tr>\n",
       "    <tr>\n",
       "      <th>4</th>\n",
       "      <td>California</td>\n",
       "      <td>20.50</td>\n",
       "      <td>2018</td>\n",
       "    </tr>\n",
       "  </tbody>\n",
       "</table>\n",
       "</div>"
      ],
      "text/plain": [
       "        state  binge_drink_rate  year\n",
       "0     Alabama             19.16  2018\n",
       "1      Alaska             18.46  2018\n",
       "2     Arizona             18.98  2018\n",
       "3    Arkansas             16.47  2018\n",
       "4  California             20.50  2018"
      ]
     },
     "execution_count": 32,
     "metadata": {},
     "output_type": "execute_result"
    }
   ],
   "source": [
    "pop = pd.read_excel(\"./data/popest-annual.xlsm\")\n",
    "\n",
    "def clean_binge(path, year):\n",
    "    binge = pd.read_excel(path, sheet_name = \"Table 14\", skiprows = 6)\n",
    "    binge = binge[[\"State\", \"12 or Older\\nEstimate\"]].rename(columns = {\"State\": \"state\",\n",
    "                                                                       \"12 or Older\\nEstimate\": \"estimate num\"})\n",
    "    binge = binge.iloc[5:]\n",
    "    new = binge.merge(pop[[\"state\", \"y\"+str(year)]], on=\"state\")\n",
    "    new[\"binge_drink_rate\"] = (new[\"estimate num\"] / new[\"y\"+str(year)] * 100000).round(2)\n",
    "    new = new[[\"state\", \"binge_drink_rate\"]]\n",
    "    new[\"year\"] = year\n",
    "    \n",
    "    return new\n",
    "    \n",
    "binge17 = clean_binge(\"./data/drinking/binge17.xlsx\", 2017)\n",
    "binge18 = clean_binge(\"./data/drinking/binge18.xlsx\", 2018)\n",
    "binge19 = clean_binge(\"./data/drinking/binge19.xlsx\", 2019)\n",
    "binge18.head()"
   ]
  },
  {
   "cell_type": "code",
   "execution_count": 33,
   "id": "e8c349d2",
   "metadata": {},
   "outputs": [
    {
     "data": {
      "text/html": [
       "<div>\n",
       "<style scoped>\n",
       "    .dataframe tbody tr th:only-of-type {\n",
       "        vertical-align: middle;\n",
       "    }\n",
       "\n",
       "    .dataframe tbody tr th {\n",
       "        vertical-align: top;\n",
       "    }\n",
       "\n",
       "    .dataframe thead th {\n",
       "        text-align: right;\n",
       "    }\n",
       "</style>\n",
       "<table border=\"1\" class=\"dataframe\">\n",
       "  <thead>\n",
       "    <tr style=\"text-align: right;\">\n",
       "      <th></th>\n",
       "      <th>state</th>\n",
       "      <th>binge_drink_rate</th>\n",
       "      <th>year</th>\n",
       "    </tr>\n",
       "  </thead>\n",
       "  <tbody>\n",
       "    <tr>\n",
       "      <th>0</th>\n",
       "      <td>Alabama</td>\n",
       "      <td>15.83</td>\n",
       "      <td>2021</td>\n",
       "    </tr>\n",
       "    <tr>\n",
       "      <th>1</th>\n",
       "      <td>Alaska</td>\n",
       "      <td>17.06</td>\n",
       "      <td>2021</td>\n",
       "    </tr>\n",
       "    <tr>\n",
       "      <th>2</th>\n",
       "      <td>Arizona</td>\n",
       "      <td>17.39</td>\n",
       "      <td>2021</td>\n",
       "    </tr>\n",
       "    <tr>\n",
       "      <th>3</th>\n",
       "      <td>Arkansas</td>\n",
       "      <td>17.02</td>\n",
       "      <td>2021</td>\n",
       "    </tr>\n",
       "    <tr>\n",
       "      <th>4</th>\n",
       "      <td>California</td>\n",
       "      <td>17.34</td>\n",
       "      <td>2021</td>\n",
       "    </tr>\n",
       "  </tbody>\n",
       "</table>\n",
       "</div>"
      ],
      "text/plain": [
       "        state  binge_drink_rate  year\n",
       "0     Alabama             15.83  2021\n",
       "1      Alaska             17.06  2021\n",
       "2     Arizona             17.39  2021\n",
       "3    Arkansas             17.02  2021\n",
       "4  California             17.34  2021"
      ]
     },
     "execution_count": 33,
     "metadata": {},
     "output_type": "execute_result"
    }
   ],
   "source": [
    "binge = pd.read_excel(\"./data/drinking/binge16.xlsx\", sheet_name = \"Table 13\", skiprows = 6)\n",
    "binge = binge[[\"State\", \"12 or Older\\nEstimate\"]].rename(columns = {\"State\": \"state\",\n",
    "                                                                   \"12 or Older\\nEstimate\": \"estimate num\"})\n",
    "binge = binge.iloc[5:]\n",
    "binge16 = binge.merge(pop[[\"state\", \"y2016\"]], on=\"state\")\n",
    "binge16[\"binge_drink_rate\"] = (binge16[\"estimate num\"] / binge16[\"y2016\"] * 100000).round(2)\n",
    "binge16 = binge16[[\"state\", \"binge_drink_rate\"]]\n",
    "binge16[\"year\"] = 2016\n",
    "\n",
    "b21 = pd.read_excel(\"./data/drinking/binge21.xlsx\", sheet_name = \"Table 15\", skiprows = 6)\n",
    "b21 = b21[[\"State\", \"12+\\nEstimate\"]].rename(columns = {\"State\": \"state\",\n",
    "                                                         \"12+\\nEstimate\": \"estimate num\"})\n",
    "b21 = b21.iloc[5:]\n",
    "binge21 = b21.merge(pop[[\"state\", \"y2021\"]], on=\"state\")\n",
    "binge21[\"binge_drink_rate\"] = (binge21[\"estimate num\"] / binge21[\"y2021\"] * 100000).round(2)\n",
    "binge21 = binge21[[\"state\", \"binge_drink_rate\"]]\n",
    "binge21[\"year\"] = 2021\n",
    "binge21.head()"
   ]
  },
  {
   "cell_type": "markdown",
   "id": "d3bfa148",
   "metadata": {},
   "source": [
    "### 2020 Data is missing due to COVID-19"
   ]
  },
  {
   "cell_type": "code",
   "execution_count": 34,
   "id": "da9b118f",
   "metadata": {},
   "outputs": [],
   "source": [
    "binge_list = [binge16, binge17, binge18, binge19, binge21]\n",
    "binge_drinking = pd.concat(binge_list)"
   ]
  },
  {
   "cell_type": "markdown",
   "id": "4e14ff18",
   "metadata": {},
   "source": [
    "## Bachelor Degree Rate among Population 18-24 from 2016-2021\n",
    "\n",
    "#### Data from: US Census Bureau--Educational Attainment"
   ]
  },
  {
   "cell_type": "code",
   "execution_count": 35,
   "id": "bc6138f0",
   "metadata": {},
   "outputs": [],
   "source": [
    "def attainment_clean(path, year): \n",
    "    df1 = pd.read_excel(path, sheet_name = \"Data\").iloc[:8]\n",
    "\n",
    "    # filter for rows where the first column is \"Bachelor's degree or higher\"\n",
    "    df1 = df1[df1.iloc[:,0] == \"Bachelor's degree or higher\"]\n",
    "\n",
    "    # select all columns except the column for Alabama\n",
    "    df1 = df1.iloc[:, 2:-1]\n",
    "\n",
    "    # get columns that are bachelor_rate (every 6 columns)\n",
    "    df1 = df1.iloc[:, list(range(0, df1.shape[1], 6))]\n",
    "\n",
    "    df2 = pd.melt(df1, var_name='state', value_name='bachelor_rate')\n",
    "    df2['bachelor_rate'] = df2['bachelor_rate'].apply(lambda x: float(x.replace(',', '').replace('%', '')))\n",
    "    df2 = df2.iloc[:51]\n",
    "    df2['state'] = states\n",
    "    df2[\"year\"] = year\n",
    "    \n",
    "    return df2\n",
    "bachelor21 = attainment_clean('./data/edu21.xlsx', 2021)\n",
    "bachelor20 = attainment_clean('./data/edu20.xlsx', 2020)\n",
    "bachelor19 = attainment_clean('./data/edu19.xlsx', 2019)\n",
    "bachelor18 = attainment_clean('./data/edu18.xlsx', 2018)\n",
    "bachelor17 = attainment_clean('./data/edu17.xlsx', 2017)\n",
    "bachelor16 = attainment_clean('./data/edu16.xlsx', 2016)"
   ]
  },
  {
   "cell_type": "code",
   "execution_count": 36,
   "id": "aaf6efd9",
   "metadata": {},
   "outputs": [],
   "source": [
    "bach_list = [bachelor21, bachelor20, bachelor19, bachelor18, bachelor17, bachelor16]\n",
    "edu_attainment = pd.concat(bach_list)"
   ]
  },
  {
   "cell_type": "markdown",
   "id": "9b720327",
   "metadata": {},
   "source": [
    "### Merge past data"
   ]
  },
  {
   "cell_type": "code",
   "execution_count": 37,
   "id": "932c7f1d",
   "metadata": {},
   "outputs": [],
   "source": [
    "df12 = pd.merge(police_correct, teacher_salary, how = \"left\", on=[\"state\", \"year\"])\n",
    "past_data = df12.merge(poverty1520, on=[\"state\", \"year\"]).merge(offense_rate, on=[\"state\", \"year\"]).merge(gdp, on=[\"state\", \"year\"])\n"
   ]
  },
  {
   "cell_type": "markdown",
   "id": "fde9a9bc",
   "metadata": {},
   "source": [
    "## Heatmap of US Sexual Offense Rate"
   ]
  },
  {
   "cell_type": "markdown",
   "id": "e2907c01",
   "metadata": {},
   "source": [
    "### Below is the choropleth of the United State states responding to sexual offense rate. It gives a general idea of which states have higher or lower sexual offense cases and rate."
   ]
  },
  {
   "cell_type": "code",
   "execution_count": 118,
   "id": "1b5eaacd",
   "metadata": {
    "scrolled": false
   },
   "outputs": [
    {
     "data": {
      "application/vnd.plotly.v1+json": {
       "config": {
        "plotlyServerURL": "https://plot.ly"
       },
       "data": [
        {
         "coloraxis": "coloraxis",
         "geo": "geo",
         "hovertemplate": "state_codes=%{location}<br>sex_rate=%{z}<extra></extra>",
         "locationmode": "USA-states",
         "locations": [
          "AL",
          "AK",
          "AZ",
          "AR",
          "CA",
          "CO",
          "CT",
          "DE",
          "DC",
          "FL",
          "GA",
          "HI",
          "ID",
          "IL",
          "IN",
          "IA",
          "KS",
          "KY",
          "LA",
          "ME",
          "MD",
          "MA",
          "MI",
          "MN",
          "MS",
          "MO",
          "MT",
          "NE",
          "NV",
          "NH",
          "NJ",
          "NM",
          "NY",
          "NC",
          "ND",
          "OH",
          "OK",
          "OR",
          "PA",
          "RI",
          "SC",
          "SD",
          "TN",
          "TX",
          "UT",
          "VT",
          "VA",
          "WA",
          "WV",
          "WI",
          "WY"
         ],
         "name": "",
         "type": "choropleth",
         "z": [
          33.8,
          116.2,
          47.8,
          101.1,
          5.2,
          118.5,
          51.8,
          70.3,
          45.5,
          null,
          67.7,
          44.8,
          117.5,
          28.8,
          70.2,
          68.8,
          74.6,
          70.3,
          42,
          76.1,
          27.7,
          59.1,
          115.9,
          87.7,
          34,
          76.9,
          152.1,
          82.2,
          127.7,
          128.9,
          10.5,
          78.6,
          8.8,
          63.2,
          144.7,
          67.4,
          117,
          84.8,
          11.2,
          75.1,
          75.6,
          129,
          82.7,
          81.8,
          153.8,
          55.9,
          67.7,
          75.4,
          72.4,
          84.4,
          95.2
         ]
        }
       ],
       "layout": {
        "coloraxis": {
         "colorbar": {
          "title": {
           "text": "sex_rate"
          }
         },
         "colorscale": [
          [
           0,
           "#fde725"
          ],
          [
           0.1111111111111111,
           "#b5de2b"
          ],
          [
           0.2222222222222222,
           "#6ece58"
          ],
          [
           0.3333333333333333,
           "#35b779"
          ],
          [
           0.4444444444444444,
           "#1f9e89"
          ],
          [
           0.5555555555555556,
           "#26828e"
          ],
          [
           0.6666666666666666,
           "#31688e"
          ],
          [
           0.7777777777777778,
           "#3e4989"
          ],
          [
           0.8888888888888888,
           "#482878"
          ],
          [
           1,
           "#440154"
          ]
         ]
        },
        "geo": {
         "center": {},
         "domain": {
          "x": [
           0,
           1
          ],
          "y": [
           0,
           1
          ]
         },
         "scope": "usa"
        },
        "legend": {
         "tracegroupgap": 0
        },
        "margin": {
         "t": 60
        },
        "template": {
         "data": {
          "bar": [
           {
            "error_x": {
             "color": "#2a3f5f"
            },
            "error_y": {
             "color": "#2a3f5f"
            },
            "marker": {
             "line": {
              "color": "#E5ECF6",
              "width": 0.5
             },
             "pattern": {
              "fillmode": "overlay",
              "size": 10,
              "solidity": 0.2
             }
            },
            "type": "bar"
           }
          ],
          "barpolar": [
           {
            "marker": {
             "line": {
              "color": "#E5ECF6",
              "width": 0.5
             },
             "pattern": {
              "fillmode": "overlay",
              "size": 10,
              "solidity": 0.2
             }
            },
            "type": "barpolar"
           }
          ],
          "carpet": [
           {
            "aaxis": {
             "endlinecolor": "#2a3f5f",
             "gridcolor": "white",
             "linecolor": "white",
             "minorgridcolor": "white",
             "startlinecolor": "#2a3f5f"
            },
            "baxis": {
             "endlinecolor": "#2a3f5f",
             "gridcolor": "white",
             "linecolor": "white",
             "minorgridcolor": "white",
             "startlinecolor": "#2a3f5f"
            },
            "type": "carpet"
           }
          ],
          "choropleth": [
           {
            "colorbar": {
             "outlinewidth": 0,
             "ticks": ""
            },
            "type": "choropleth"
           }
          ],
          "contour": [
           {
            "colorbar": {
             "outlinewidth": 0,
             "ticks": ""
            },
            "colorscale": [
             [
              0,
              "#0d0887"
             ],
             [
              0.1111111111111111,
              "#46039f"
             ],
             [
              0.2222222222222222,
              "#7201a8"
             ],
             [
              0.3333333333333333,
              "#9c179e"
             ],
             [
              0.4444444444444444,
              "#bd3786"
             ],
             [
              0.5555555555555556,
              "#d8576b"
             ],
             [
              0.6666666666666666,
              "#ed7953"
             ],
             [
              0.7777777777777778,
              "#fb9f3a"
             ],
             [
              0.8888888888888888,
              "#fdca26"
             ],
             [
              1,
              "#f0f921"
             ]
            ],
            "type": "contour"
           }
          ],
          "contourcarpet": [
           {
            "colorbar": {
             "outlinewidth": 0,
             "ticks": ""
            },
            "type": "contourcarpet"
           }
          ],
          "heatmap": [
           {
            "colorbar": {
             "outlinewidth": 0,
             "ticks": ""
            },
            "colorscale": [
             [
              0,
              "#0d0887"
             ],
             [
              0.1111111111111111,
              "#46039f"
             ],
             [
              0.2222222222222222,
              "#7201a8"
             ],
             [
              0.3333333333333333,
              "#9c179e"
             ],
             [
              0.4444444444444444,
              "#bd3786"
             ],
             [
              0.5555555555555556,
              "#d8576b"
             ],
             [
              0.6666666666666666,
              "#ed7953"
             ],
             [
              0.7777777777777778,
              "#fb9f3a"
             ],
             [
              0.8888888888888888,
              "#fdca26"
             ],
             [
              1,
              "#f0f921"
             ]
            ],
            "type": "heatmap"
           }
          ],
          "heatmapgl": [
           {
            "colorbar": {
             "outlinewidth": 0,
             "ticks": ""
            },
            "colorscale": [
             [
              0,
              "#0d0887"
             ],
             [
              0.1111111111111111,
              "#46039f"
             ],
             [
              0.2222222222222222,
              "#7201a8"
             ],
             [
              0.3333333333333333,
              "#9c179e"
             ],
             [
              0.4444444444444444,
              "#bd3786"
             ],
             [
              0.5555555555555556,
              "#d8576b"
             ],
             [
              0.6666666666666666,
              "#ed7953"
             ],
             [
              0.7777777777777778,
              "#fb9f3a"
             ],
             [
              0.8888888888888888,
              "#fdca26"
             ],
             [
              1,
              "#f0f921"
             ]
            ],
            "type": "heatmapgl"
           }
          ],
          "histogram": [
           {
            "marker": {
             "pattern": {
              "fillmode": "overlay",
              "size": 10,
              "solidity": 0.2
             }
            },
            "type": "histogram"
           }
          ],
          "histogram2d": [
           {
            "colorbar": {
             "outlinewidth": 0,
             "ticks": ""
            },
            "colorscale": [
             [
              0,
              "#0d0887"
             ],
             [
              0.1111111111111111,
              "#46039f"
             ],
             [
              0.2222222222222222,
              "#7201a8"
             ],
             [
              0.3333333333333333,
              "#9c179e"
             ],
             [
              0.4444444444444444,
              "#bd3786"
             ],
             [
              0.5555555555555556,
              "#d8576b"
             ],
             [
              0.6666666666666666,
              "#ed7953"
             ],
             [
              0.7777777777777778,
              "#fb9f3a"
             ],
             [
              0.8888888888888888,
              "#fdca26"
             ],
             [
              1,
              "#f0f921"
             ]
            ],
            "type": "histogram2d"
           }
          ],
          "histogram2dcontour": [
           {
            "colorbar": {
             "outlinewidth": 0,
             "ticks": ""
            },
            "colorscale": [
             [
              0,
              "#0d0887"
             ],
             [
              0.1111111111111111,
              "#46039f"
             ],
             [
              0.2222222222222222,
              "#7201a8"
             ],
             [
              0.3333333333333333,
              "#9c179e"
             ],
             [
              0.4444444444444444,
              "#bd3786"
             ],
             [
              0.5555555555555556,
              "#d8576b"
             ],
             [
              0.6666666666666666,
              "#ed7953"
             ],
             [
              0.7777777777777778,
              "#fb9f3a"
             ],
             [
              0.8888888888888888,
              "#fdca26"
             ],
             [
              1,
              "#f0f921"
             ]
            ],
            "type": "histogram2dcontour"
           }
          ],
          "mesh3d": [
           {
            "colorbar": {
             "outlinewidth": 0,
             "ticks": ""
            },
            "type": "mesh3d"
           }
          ],
          "parcoords": [
           {
            "line": {
             "colorbar": {
              "outlinewidth": 0,
              "ticks": ""
             }
            },
            "type": "parcoords"
           }
          ],
          "pie": [
           {
            "automargin": true,
            "type": "pie"
           }
          ],
          "scatter": [
           {
            "fillpattern": {
             "fillmode": "overlay",
             "size": 10,
             "solidity": 0.2
            },
            "type": "scatter"
           }
          ],
          "scatter3d": [
           {
            "line": {
             "colorbar": {
              "outlinewidth": 0,
              "ticks": ""
             }
            },
            "marker": {
             "colorbar": {
              "outlinewidth": 0,
              "ticks": ""
             }
            },
            "type": "scatter3d"
           }
          ],
          "scattercarpet": [
           {
            "marker": {
             "colorbar": {
              "outlinewidth": 0,
              "ticks": ""
             }
            },
            "type": "scattercarpet"
           }
          ],
          "scattergeo": [
           {
            "marker": {
             "colorbar": {
              "outlinewidth": 0,
              "ticks": ""
             }
            },
            "type": "scattergeo"
           }
          ],
          "scattergl": [
           {
            "marker": {
             "colorbar": {
              "outlinewidth": 0,
              "ticks": ""
             }
            },
            "type": "scattergl"
           }
          ],
          "scattermapbox": [
           {
            "marker": {
             "colorbar": {
              "outlinewidth": 0,
              "ticks": ""
             }
            },
            "type": "scattermapbox"
           }
          ],
          "scatterpolar": [
           {
            "marker": {
             "colorbar": {
              "outlinewidth": 0,
              "ticks": ""
             }
            },
            "type": "scatterpolar"
           }
          ],
          "scatterpolargl": [
           {
            "marker": {
             "colorbar": {
              "outlinewidth": 0,
              "ticks": ""
             }
            },
            "type": "scatterpolargl"
           }
          ],
          "scatterternary": [
           {
            "marker": {
             "colorbar": {
              "outlinewidth": 0,
              "ticks": ""
             }
            },
            "type": "scatterternary"
           }
          ],
          "surface": [
           {
            "colorbar": {
             "outlinewidth": 0,
             "ticks": ""
            },
            "colorscale": [
             [
              0,
              "#0d0887"
             ],
             [
              0.1111111111111111,
              "#46039f"
             ],
             [
              0.2222222222222222,
              "#7201a8"
             ],
             [
              0.3333333333333333,
              "#9c179e"
             ],
             [
              0.4444444444444444,
              "#bd3786"
             ],
             [
              0.5555555555555556,
              "#d8576b"
             ],
             [
              0.6666666666666666,
              "#ed7953"
             ],
             [
              0.7777777777777778,
              "#fb9f3a"
             ],
             [
              0.8888888888888888,
              "#fdca26"
             ],
             [
              1,
              "#f0f921"
             ]
            ],
            "type": "surface"
           }
          ],
          "table": [
           {
            "cells": {
             "fill": {
              "color": "#EBF0F8"
             },
             "line": {
              "color": "white"
             }
            },
            "header": {
             "fill": {
              "color": "#C8D4E3"
             },
             "line": {
              "color": "white"
             }
            },
            "type": "table"
           }
          ]
         },
         "layout": {
          "annotationdefaults": {
           "arrowcolor": "#2a3f5f",
           "arrowhead": 0,
           "arrowwidth": 1
          },
          "autotypenumbers": "strict",
          "coloraxis": {
           "colorbar": {
            "outlinewidth": 0,
            "ticks": ""
           }
          },
          "colorscale": {
           "diverging": [
            [
             0,
             "#8e0152"
            ],
            [
             0.1,
             "#c51b7d"
            ],
            [
             0.2,
             "#de77ae"
            ],
            [
             0.3,
             "#f1b6da"
            ],
            [
             0.4,
             "#fde0ef"
            ],
            [
             0.5,
             "#f7f7f7"
            ],
            [
             0.6,
             "#e6f5d0"
            ],
            [
             0.7,
             "#b8e186"
            ],
            [
             0.8,
             "#7fbc41"
            ],
            [
             0.9,
             "#4d9221"
            ],
            [
             1,
             "#276419"
            ]
           ],
           "sequential": [
            [
             0,
             "#0d0887"
            ],
            [
             0.1111111111111111,
             "#46039f"
            ],
            [
             0.2222222222222222,
             "#7201a8"
            ],
            [
             0.3333333333333333,
             "#9c179e"
            ],
            [
             0.4444444444444444,
             "#bd3786"
            ],
            [
             0.5555555555555556,
             "#d8576b"
            ],
            [
             0.6666666666666666,
             "#ed7953"
            ],
            [
             0.7777777777777778,
             "#fb9f3a"
            ],
            [
             0.8888888888888888,
             "#fdca26"
            ],
            [
             1,
             "#f0f921"
            ]
           ],
           "sequentialminus": [
            [
             0,
             "#0d0887"
            ],
            [
             0.1111111111111111,
             "#46039f"
            ],
            [
             0.2222222222222222,
             "#7201a8"
            ],
            [
             0.3333333333333333,
             "#9c179e"
            ],
            [
             0.4444444444444444,
             "#bd3786"
            ],
            [
             0.5555555555555556,
             "#d8576b"
            ],
            [
             0.6666666666666666,
             "#ed7953"
            ],
            [
             0.7777777777777778,
             "#fb9f3a"
            ],
            [
             0.8888888888888888,
             "#fdca26"
            ],
            [
             1,
             "#f0f921"
            ]
           ]
          },
          "colorway": [
           "#636efa",
           "#EF553B",
           "#00cc96",
           "#ab63fa",
           "#FFA15A",
           "#19d3f3",
           "#FF6692",
           "#B6E880",
           "#FF97FF",
           "#FECB52"
          ],
          "font": {
           "color": "#2a3f5f"
          },
          "geo": {
           "bgcolor": "white",
           "lakecolor": "white",
           "landcolor": "#E5ECF6",
           "showlakes": true,
           "showland": true,
           "subunitcolor": "white"
          },
          "hoverlabel": {
           "align": "left"
          },
          "hovermode": "closest",
          "mapbox": {
           "style": "light"
          },
          "paper_bgcolor": "white",
          "plot_bgcolor": "#E5ECF6",
          "polar": {
           "angularaxis": {
            "gridcolor": "white",
            "linecolor": "white",
            "ticks": ""
           },
           "bgcolor": "#E5ECF6",
           "radialaxis": {
            "gridcolor": "white",
            "linecolor": "white",
            "ticks": ""
           }
          },
          "scene": {
           "xaxis": {
            "backgroundcolor": "#E5ECF6",
            "gridcolor": "white",
            "gridwidth": 2,
            "linecolor": "white",
            "showbackground": true,
            "ticks": "",
            "zerolinecolor": "white"
           },
           "yaxis": {
            "backgroundcolor": "#E5ECF6",
            "gridcolor": "white",
            "gridwidth": 2,
            "linecolor": "white",
            "showbackground": true,
            "ticks": "",
            "zerolinecolor": "white"
           },
           "zaxis": {
            "backgroundcolor": "#E5ECF6",
            "gridcolor": "white",
            "gridwidth": 2,
            "linecolor": "white",
            "showbackground": true,
            "ticks": "",
            "zerolinecolor": "white"
           }
          },
          "shapedefaults": {
           "line": {
            "color": "#2a3f5f"
           }
          },
          "ternary": {
           "aaxis": {
            "gridcolor": "white",
            "linecolor": "white",
            "ticks": ""
           },
           "baxis": {
            "gridcolor": "white",
            "linecolor": "white",
            "ticks": ""
           },
           "bgcolor": "#E5ECF6",
           "caxis": {
            "gridcolor": "white",
            "linecolor": "white",
            "ticks": ""
           }
          },
          "title": {
           "x": 0.05
          },
          "xaxis": {
           "automargin": true,
           "gridcolor": "white",
           "linecolor": "white",
           "ticks": "",
           "title": {
            "standoff": 15
           },
           "zerolinecolor": "white",
           "zerolinewidth": 2
          },
          "yaxis": {
           "automargin": true,
           "gridcolor": "white",
           "linecolor": "white",
           "ticks": "",
           "title": {
            "standoff": 15
           },
           "zerolinecolor": "white",
           "zerolinewidth": 2
          }
         }
        }
       }
      },
      "text/html": [
       "<div>                            <div id=\"d5520781-cfba-4ab0-ab90-968dabeb7b3c\" class=\"plotly-graph-div\" style=\"height:525px; width:100%;\"></div>            <script type=\"text/javascript\">                require([\"plotly\"], function(Plotly) {                    window.PLOTLYENV=window.PLOTLYENV || {};                                    if (document.getElementById(\"d5520781-cfba-4ab0-ab90-968dabeb7b3c\")) {                    Plotly.newPlot(                        \"d5520781-cfba-4ab0-ab90-968dabeb7b3c\",                        [{\"coloraxis\":\"coloraxis\",\"geo\":\"geo\",\"hovertemplate\":\"state_codes=%{location}<br>sex_rate=%{z}<extra></extra>\",\"locationmode\":\"USA-states\",\"locations\":[\"AL\",\"AK\",\"AZ\",\"AR\",\"CA\",\"CO\",\"CT\",\"DE\",\"DC\",\"FL\",\"GA\",\"HI\",\"ID\",\"IL\",\"IN\",\"IA\",\"KS\",\"KY\",\"LA\",\"ME\",\"MD\",\"MA\",\"MI\",\"MN\",\"MS\",\"MO\",\"MT\",\"NE\",\"NV\",\"NH\",\"NJ\",\"NM\",\"NY\",\"NC\",\"ND\",\"OH\",\"OK\",\"OR\",\"PA\",\"RI\",\"SC\",\"SD\",\"TN\",\"TX\",\"UT\",\"VT\",\"VA\",\"WA\",\"WV\",\"WI\",\"WY\"],\"name\":\"\",\"z\":[33.8,116.2,47.8,101.1,5.2,118.5,51.8,70.3,45.5,null,67.7,44.8,117.5,28.8,70.2,68.8,74.6,70.3,42.0,76.1,27.7,59.1,115.9,87.7,34.0,76.9,152.1,82.2,127.7,128.9,10.5,78.6,8.8,63.2,144.7,67.4,117.0,84.8,11.2,75.1,75.6,129.0,82.7,81.8,153.8,55.9,67.7,75.4,72.4,84.4,95.2],\"type\":\"choropleth\"}],                        {\"template\":{\"data\":{\"histogram2dcontour\":[{\"type\":\"histogram2dcontour\",\"colorbar\":{\"outlinewidth\":0,\"ticks\":\"\"},\"colorscale\":[[0.0,\"#0d0887\"],[0.1111111111111111,\"#46039f\"],[0.2222222222222222,\"#7201a8\"],[0.3333333333333333,\"#9c179e\"],[0.4444444444444444,\"#bd3786\"],[0.5555555555555556,\"#d8576b\"],[0.6666666666666666,\"#ed7953\"],[0.7777777777777778,\"#fb9f3a\"],[0.8888888888888888,\"#fdca26\"],[1.0,\"#f0f921\"]]}],\"choropleth\":[{\"type\":\"choropleth\",\"colorbar\":{\"outlinewidth\":0,\"ticks\":\"\"}}],\"histogram2d\":[{\"type\":\"histogram2d\",\"colorbar\":{\"outlinewidth\":0,\"ticks\":\"\"},\"colorscale\":[[0.0,\"#0d0887\"],[0.1111111111111111,\"#46039f\"],[0.2222222222222222,\"#7201a8\"],[0.3333333333333333,\"#9c179e\"],[0.4444444444444444,\"#bd3786\"],[0.5555555555555556,\"#d8576b\"],[0.6666666666666666,\"#ed7953\"],[0.7777777777777778,\"#fb9f3a\"],[0.8888888888888888,\"#fdca26\"],[1.0,\"#f0f921\"]]}],\"heatmap\":[{\"type\":\"heatmap\",\"colorbar\":{\"outlinewidth\":0,\"ticks\":\"\"},\"colorscale\":[[0.0,\"#0d0887\"],[0.1111111111111111,\"#46039f\"],[0.2222222222222222,\"#7201a8\"],[0.3333333333333333,\"#9c179e\"],[0.4444444444444444,\"#bd3786\"],[0.5555555555555556,\"#d8576b\"],[0.6666666666666666,\"#ed7953\"],[0.7777777777777778,\"#fb9f3a\"],[0.8888888888888888,\"#fdca26\"],[1.0,\"#f0f921\"]]}],\"heatmapgl\":[{\"type\":\"heatmapgl\",\"colorbar\":{\"outlinewidth\":0,\"ticks\":\"\"},\"colorscale\":[[0.0,\"#0d0887\"],[0.1111111111111111,\"#46039f\"],[0.2222222222222222,\"#7201a8\"],[0.3333333333333333,\"#9c179e\"],[0.4444444444444444,\"#bd3786\"],[0.5555555555555556,\"#d8576b\"],[0.6666666666666666,\"#ed7953\"],[0.7777777777777778,\"#fb9f3a\"],[0.8888888888888888,\"#fdca26\"],[1.0,\"#f0f921\"]]}],\"contourcarpet\":[{\"type\":\"contourcarpet\",\"colorbar\":{\"outlinewidth\":0,\"ticks\":\"\"}}],\"contour\":[{\"type\":\"contour\",\"colorbar\":{\"outlinewidth\":0,\"ticks\":\"\"},\"colorscale\":[[0.0,\"#0d0887\"],[0.1111111111111111,\"#46039f\"],[0.2222222222222222,\"#7201a8\"],[0.3333333333333333,\"#9c179e\"],[0.4444444444444444,\"#bd3786\"],[0.5555555555555556,\"#d8576b\"],[0.6666666666666666,\"#ed7953\"],[0.7777777777777778,\"#fb9f3a\"],[0.8888888888888888,\"#fdca26\"],[1.0,\"#f0f921\"]]}],\"surface\":[{\"type\":\"surface\",\"colorbar\":{\"outlinewidth\":0,\"ticks\":\"\"},\"colorscale\":[[0.0,\"#0d0887\"],[0.1111111111111111,\"#46039f\"],[0.2222222222222222,\"#7201a8\"],[0.3333333333333333,\"#9c179e\"],[0.4444444444444444,\"#bd3786\"],[0.5555555555555556,\"#d8576b\"],[0.6666666666666666,\"#ed7953\"],[0.7777777777777778,\"#fb9f3a\"],[0.8888888888888888,\"#fdca26\"],[1.0,\"#f0f921\"]]}],\"mesh3d\":[{\"type\":\"mesh3d\",\"colorbar\":{\"outlinewidth\":0,\"ticks\":\"\"}}],\"scatter\":[{\"fillpattern\":{\"fillmode\":\"overlay\",\"size\":10,\"solidity\":0.2},\"type\":\"scatter\"}],\"parcoords\":[{\"type\":\"parcoords\",\"line\":{\"colorbar\":{\"outlinewidth\":0,\"ticks\":\"\"}}}],\"scatterpolargl\":[{\"type\":\"scatterpolargl\",\"marker\":{\"colorbar\":{\"outlinewidth\":0,\"ticks\":\"\"}}}],\"bar\":[{\"error_x\":{\"color\":\"#2a3f5f\"},\"error_y\":{\"color\":\"#2a3f5f\"},\"marker\":{\"line\":{\"color\":\"#E5ECF6\",\"width\":0.5},\"pattern\":{\"fillmode\":\"overlay\",\"size\":10,\"solidity\":0.2}},\"type\":\"bar\"}],\"scattergeo\":[{\"type\":\"scattergeo\",\"marker\":{\"colorbar\":{\"outlinewidth\":0,\"ticks\":\"\"}}}],\"scatterpolar\":[{\"type\":\"scatterpolar\",\"marker\":{\"colorbar\":{\"outlinewidth\":0,\"ticks\":\"\"}}}],\"histogram\":[{\"marker\":{\"pattern\":{\"fillmode\":\"overlay\",\"size\":10,\"solidity\":0.2}},\"type\":\"histogram\"}],\"scattergl\":[{\"type\":\"scattergl\",\"marker\":{\"colorbar\":{\"outlinewidth\":0,\"ticks\":\"\"}}}],\"scatter3d\":[{\"type\":\"scatter3d\",\"line\":{\"colorbar\":{\"outlinewidth\":0,\"ticks\":\"\"}},\"marker\":{\"colorbar\":{\"outlinewidth\":0,\"ticks\":\"\"}}}],\"scattermapbox\":[{\"type\":\"scattermapbox\",\"marker\":{\"colorbar\":{\"outlinewidth\":0,\"ticks\":\"\"}}}],\"scatterternary\":[{\"type\":\"scatterternary\",\"marker\":{\"colorbar\":{\"outlinewidth\":0,\"ticks\":\"\"}}}],\"scattercarpet\":[{\"type\":\"scattercarpet\",\"marker\":{\"colorbar\":{\"outlinewidth\":0,\"ticks\":\"\"}}}],\"carpet\":[{\"aaxis\":{\"endlinecolor\":\"#2a3f5f\",\"gridcolor\":\"white\",\"linecolor\":\"white\",\"minorgridcolor\":\"white\",\"startlinecolor\":\"#2a3f5f\"},\"baxis\":{\"endlinecolor\":\"#2a3f5f\",\"gridcolor\":\"white\",\"linecolor\":\"white\",\"minorgridcolor\":\"white\",\"startlinecolor\":\"#2a3f5f\"},\"type\":\"carpet\"}],\"table\":[{\"cells\":{\"fill\":{\"color\":\"#EBF0F8\"},\"line\":{\"color\":\"white\"}},\"header\":{\"fill\":{\"color\":\"#C8D4E3\"},\"line\":{\"color\":\"white\"}},\"type\":\"table\"}],\"barpolar\":[{\"marker\":{\"line\":{\"color\":\"#E5ECF6\",\"width\":0.5},\"pattern\":{\"fillmode\":\"overlay\",\"size\":10,\"solidity\":0.2}},\"type\":\"barpolar\"}],\"pie\":[{\"automargin\":true,\"type\":\"pie\"}]},\"layout\":{\"autotypenumbers\":\"strict\",\"colorway\":[\"#636efa\",\"#EF553B\",\"#00cc96\",\"#ab63fa\",\"#FFA15A\",\"#19d3f3\",\"#FF6692\",\"#B6E880\",\"#FF97FF\",\"#FECB52\"],\"font\":{\"color\":\"#2a3f5f\"},\"hovermode\":\"closest\",\"hoverlabel\":{\"align\":\"left\"},\"paper_bgcolor\":\"white\",\"plot_bgcolor\":\"#E5ECF6\",\"polar\":{\"bgcolor\":\"#E5ECF6\",\"angularaxis\":{\"gridcolor\":\"white\",\"linecolor\":\"white\",\"ticks\":\"\"},\"radialaxis\":{\"gridcolor\":\"white\",\"linecolor\":\"white\",\"ticks\":\"\"}},\"ternary\":{\"bgcolor\":\"#E5ECF6\",\"aaxis\":{\"gridcolor\":\"white\",\"linecolor\":\"white\",\"ticks\":\"\"},\"baxis\":{\"gridcolor\":\"white\",\"linecolor\":\"white\",\"ticks\":\"\"},\"caxis\":{\"gridcolor\":\"white\",\"linecolor\":\"white\",\"ticks\":\"\"}},\"coloraxis\":{\"colorbar\":{\"outlinewidth\":0,\"ticks\":\"\"}},\"colorscale\":{\"sequential\":[[0.0,\"#0d0887\"],[0.1111111111111111,\"#46039f\"],[0.2222222222222222,\"#7201a8\"],[0.3333333333333333,\"#9c179e\"],[0.4444444444444444,\"#bd3786\"],[0.5555555555555556,\"#d8576b\"],[0.6666666666666666,\"#ed7953\"],[0.7777777777777778,\"#fb9f3a\"],[0.8888888888888888,\"#fdca26\"],[1.0,\"#f0f921\"]],\"sequentialminus\":[[0.0,\"#0d0887\"],[0.1111111111111111,\"#46039f\"],[0.2222222222222222,\"#7201a8\"],[0.3333333333333333,\"#9c179e\"],[0.4444444444444444,\"#bd3786\"],[0.5555555555555556,\"#d8576b\"],[0.6666666666666666,\"#ed7953\"],[0.7777777777777778,\"#fb9f3a\"],[0.8888888888888888,\"#fdca26\"],[1.0,\"#f0f921\"]],\"diverging\":[[0,\"#8e0152\"],[0.1,\"#c51b7d\"],[0.2,\"#de77ae\"],[0.3,\"#f1b6da\"],[0.4,\"#fde0ef\"],[0.5,\"#f7f7f7\"],[0.6,\"#e6f5d0\"],[0.7,\"#b8e186\"],[0.8,\"#7fbc41\"],[0.9,\"#4d9221\"],[1,\"#276419\"]]},\"xaxis\":{\"gridcolor\":\"white\",\"linecolor\":\"white\",\"ticks\":\"\",\"title\":{\"standoff\":15},\"zerolinecolor\":\"white\",\"automargin\":true,\"zerolinewidth\":2},\"yaxis\":{\"gridcolor\":\"white\",\"linecolor\":\"white\",\"ticks\":\"\",\"title\":{\"standoff\":15},\"zerolinecolor\":\"white\",\"automargin\":true,\"zerolinewidth\":2},\"scene\":{\"xaxis\":{\"backgroundcolor\":\"#E5ECF6\",\"gridcolor\":\"white\",\"linecolor\":\"white\",\"showbackground\":true,\"ticks\":\"\",\"zerolinecolor\":\"white\",\"gridwidth\":2},\"yaxis\":{\"backgroundcolor\":\"#E5ECF6\",\"gridcolor\":\"white\",\"linecolor\":\"white\",\"showbackground\":true,\"ticks\":\"\",\"zerolinecolor\":\"white\",\"gridwidth\":2},\"zaxis\":{\"backgroundcolor\":\"#E5ECF6\",\"gridcolor\":\"white\",\"linecolor\":\"white\",\"showbackground\":true,\"ticks\":\"\",\"zerolinecolor\":\"white\",\"gridwidth\":2}},\"shapedefaults\":{\"line\":{\"color\":\"#2a3f5f\"}},\"annotationdefaults\":{\"arrowcolor\":\"#2a3f5f\",\"arrowhead\":0,\"arrowwidth\":1},\"geo\":{\"bgcolor\":\"white\",\"landcolor\":\"#E5ECF6\",\"subunitcolor\":\"white\",\"showland\":true,\"showlakes\":true,\"lakecolor\":\"white\"},\"title\":{\"x\":0.05},\"mapbox\":{\"style\":\"light\"}}},\"geo\":{\"domain\":{\"x\":[0.0,1.0],\"y\":[0.0,1.0]},\"center\":{},\"scope\":\"usa\"},\"coloraxis\":{\"colorbar\":{\"title\":{\"text\":\"sex_rate\"}},\"colorscale\":[[0.0,\"#fde725\"],[0.1111111111111111,\"#b5de2b\"],[0.2222222222222222,\"#6ece58\"],[0.3333333333333333,\"#35b779\"],[0.4444444444444444,\"#1f9e89\"],[0.5555555555555556,\"#26828e\"],[0.6666666666666666,\"#31688e\"],[0.7777777777777778,\"#3e4989\"],[0.8888888888888888,\"#482878\"],[1.0,\"#440154\"]]},\"legend\":{\"tracegroupgap\":0},\"margin\":{\"t\":60}},                        {\"responsive\": true}                    ).then(function(){\n",
       "                            \n",
       "var gd = document.getElementById('d5520781-cfba-4ab0-ab90-968dabeb7b3c');\n",
       "var x = new MutationObserver(function (mutations, observer) {{\n",
       "        var display = window.getComputedStyle(gd).display;\n",
       "        if (!display || display === 'none') {{\n",
       "            console.log([gd, 'removed!']);\n",
       "            Plotly.purge(gd);\n",
       "            observer.disconnect();\n",
       "        }}\n",
       "}});\n",
       "\n",
       "// Listen for the removal of the full notebook cells\n",
       "var notebookContainer = gd.closest('#notebook-container');\n",
       "if (notebookContainer) {{\n",
       "    x.observe(notebookContainer, {childList: true});\n",
       "}}\n",
       "\n",
       "// Listen for the clearing of the current output cell\n",
       "var outputEl = gd.closest('.output');\n",
       "if (outputEl) {{\n",
       "    x.observe(outputEl, {childList: true});\n",
       "}}\n",
       "\n",
       "                        })                };                });            </script>        </div>"
      ]
     },
     "metadata": {},
     "output_type": "display_data"
    }
   ],
   "source": [
    "# Reference:\n",
    "# https://towardsdatascience.com/simplest-way-of-creating-a-choropleth-map-by-u-s-states-in-python-f359ada7735e\n",
    "# https://gist.github.com/rogerallen/1583593\n",
    "\n",
    "# Heat map of sexual offense cases in US in 2021\n",
    "# The data is collected by FBI, but Florida data is reported by only Seminole and Miccosukee Tribes.\n",
    "fig = px.choropleth(sexual_factors, \n",
    "                    locations='state_codes', \n",
    "                    locationmode='USA-states', \n",
    "                    scope='usa', \n",
    "                    color='sex_rate', \n",
    "                    color_continuous_scale='Viridis_r')\n",
    "fig.show()"
   ]
  },
  {
   "cell_type": "code",
   "execution_count": 120,
   "id": "4cca3ec6",
   "metadata": {},
   "outputs": [
    {
     "data": {
      "application/vnd.plotly.v1+json": {
       "config": {
        "plotlyServerURL": "https://plot.ly"
       },
       "data": [
        {
         "coloraxis": "coloraxis",
         "geo": "geo",
         "hovertemplate": "state_codes=%{location}<br>score.y=%{z}<extra></extra>",
         "locationmode": "USA-states",
         "locations": [
          "AL",
          "AK",
          "AZ",
          "AR",
          "CA",
          "CO",
          "CT",
          "DE",
          "DC",
          "FL",
          "GA",
          "HI",
          "ID",
          "IL",
          "IN",
          "IA",
          "KS",
          "KY",
          "LA",
          "ME",
          "MD",
          "MA",
          "MI",
          "MN",
          "MS",
          "MO",
          "MT",
          "NE",
          "NV",
          "NH",
          "NJ",
          "NM",
          "NY",
          "NC",
          "ND",
          "OH",
          "OK",
          "OR",
          "PA",
          "RI",
          "SC",
          "SD",
          "TN",
          "TX",
          "UT",
          "VT",
          "VA",
          "WA",
          "WV",
          "WI",
          "WY"
         ],
         "name": "",
         "type": "choropleth",
         "z": [
          26.5,
          81.4,
          84.4,
          21.2,
          91.6,
          55.5,
          33.3,
          74.1,
          86.4,
          100,
          42.4,
          20.6,
          68.3,
          47,
          11,
          3.8,
          39.8,
          0,
          33,
          9.5,
          91.9,
          23.1,
          38.1,
          41.5,
          16.7,
          32.7,
          55.1,
          42,
          98.6,
          42,
          59.1,
          74.5,
          62.3,
          50,
          25.5,
          32.6,
          39.1,
          52.5,
          50.2,
          63.7,
          13,
          34.2,
          44.2,
          44.7,
          20.3,
          23.3,
          65.9,
          30.5,
          25.5,
          51.5,
          49
         ]
        }
       ],
       "layout": {
        "coloraxis": {
         "colorbar": {
          "title": {
           "text": "score.y"
          }
         },
         "colorscale": [
          [
           0,
           "#fde725"
          ],
          [
           0.1111111111111111,
           "#b5de2b"
          ],
          [
           0.2222222222222222,
           "#6ece58"
          ],
          [
           0.3333333333333333,
           "#35b779"
          ],
          [
           0.4444444444444444,
           "#1f9e89"
          ],
          [
           0.5555555555555556,
           "#26828e"
          ],
          [
           0.6666666666666666,
           "#31688e"
          ],
          [
           0.7777777777777778,
           "#3e4989"
          ],
          [
           0.8888888888888888,
           "#482878"
          ],
          [
           1,
           "#440154"
          ]
         ]
        },
        "geo": {
         "center": {},
         "domain": {
          "x": [
           0,
           1
          ],
          "y": [
           0,
           1
          ]
         },
         "scope": "usa"
        },
        "legend": {
         "tracegroupgap": 0
        },
        "margin": {
         "t": 60
        },
        "template": {
         "data": {
          "bar": [
           {
            "error_x": {
             "color": "#2a3f5f"
            },
            "error_y": {
             "color": "#2a3f5f"
            },
            "marker": {
             "line": {
              "color": "#E5ECF6",
              "width": 0.5
             },
             "pattern": {
              "fillmode": "overlay",
              "size": 10,
              "solidity": 0.2
             }
            },
            "type": "bar"
           }
          ],
          "barpolar": [
           {
            "marker": {
             "line": {
              "color": "#E5ECF6",
              "width": 0.5
             },
             "pattern": {
              "fillmode": "overlay",
              "size": 10,
              "solidity": 0.2
             }
            },
            "type": "barpolar"
           }
          ],
          "carpet": [
           {
            "aaxis": {
             "endlinecolor": "#2a3f5f",
             "gridcolor": "white",
             "linecolor": "white",
             "minorgridcolor": "white",
             "startlinecolor": "#2a3f5f"
            },
            "baxis": {
             "endlinecolor": "#2a3f5f",
             "gridcolor": "white",
             "linecolor": "white",
             "minorgridcolor": "white",
             "startlinecolor": "#2a3f5f"
            },
            "type": "carpet"
           }
          ],
          "choropleth": [
           {
            "colorbar": {
             "outlinewidth": 0,
             "ticks": ""
            },
            "type": "choropleth"
           }
          ],
          "contour": [
           {
            "colorbar": {
             "outlinewidth": 0,
             "ticks": ""
            },
            "colorscale": [
             [
              0,
              "#0d0887"
             ],
             [
              0.1111111111111111,
              "#46039f"
             ],
             [
              0.2222222222222222,
              "#7201a8"
             ],
             [
              0.3333333333333333,
              "#9c179e"
             ],
             [
              0.4444444444444444,
              "#bd3786"
             ],
             [
              0.5555555555555556,
              "#d8576b"
             ],
             [
              0.6666666666666666,
              "#ed7953"
             ],
             [
              0.7777777777777778,
              "#fb9f3a"
             ],
             [
              0.8888888888888888,
              "#fdca26"
             ],
             [
              1,
              "#f0f921"
             ]
            ],
            "type": "contour"
           }
          ],
          "contourcarpet": [
           {
            "colorbar": {
             "outlinewidth": 0,
             "ticks": ""
            },
            "type": "contourcarpet"
           }
          ],
          "heatmap": [
           {
            "colorbar": {
             "outlinewidth": 0,
             "ticks": ""
            },
            "colorscale": [
             [
              0,
              "#0d0887"
             ],
             [
              0.1111111111111111,
              "#46039f"
             ],
             [
              0.2222222222222222,
              "#7201a8"
             ],
             [
              0.3333333333333333,
              "#9c179e"
             ],
             [
              0.4444444444444444,
              "#bd3786"
             ],
             [
              0.5555555555555556,
              "#d8576b"
             ],
             [
              0.6666666666666666,
              "#ed7953"
             ],
             [
              0.7777777777777778,
              "#fb9f3a"
             ],
             [
              0.8888888888888888,
              "#fdca26"
             ],
             [
              1,
              "#f0f921"
             ]
            ],
            "type": "heatmap"
           }
          ],
          "heatmapgl": [
           {
            "colorbar": {
             "outlinewidth": 0,
             "ticks": ""
            },
            "colorscale": [
             [
              0,
              "#0d0887"
             ],
             [
              0.1111111111111111,
              "#46039f"
             ],
             [
              0.2222222222222222,
              "#7201a8"
             ],
             [
              0.3333333333333333,
              "#9c179e"
             ],
             [
              0.4444444444444444,
              "#bd3786"
             ],
             [
              0.5555555555555556,
              "#d8576b"
             ],
             [
              0.6666666666666666,
              "#ed7953"
             ],
             [
              0.7777777777777778,
              "#fb9f3a"
             ],
             [
              0.8888888888888888,
              "#fdca26"
             ],
             [
              1,
              "#f0f921"
             ]
            ],
            "type": "heatmapgl"
           }
          ],
          "histogram": [
           {
            "marker": {
             "pattern": {
              "fillmode": "overlay",
              "size": 10,
              "solidity": 0.2
             }
            },
            "type": "histogram"
           }
          ],
          "histogram2d": [
           {
            "colorbar": {
             "outlinewidth": 0,
             "ticks": ""
            },
            "colorscale": [
             [
              0,
              "#0d0887"
             ],
             [
              0.1111111111111111,
              "#46039f"
             ],
             [
              0.2222222222222222,
              "#7201a8"
             ],
             [
              0.3333333333333333,
              "#9c179e"
             ],
             [
              0.4444444444444444,
              "#bd3786"
             ],
             [
              0.5555555555555556,
              "#d8576b"
             ],
             [
              0.6666666666666666,
              "#ed7953"
             ],
             [
              0.7777777777777778,
              "#fb9f3a"
             ],
             [
              0.8888888888888888,
              "#fdca26"
             ],
             [
              1,
              "#f0f921"
             ]
            ],
            "type": "histogram2d"
           }
          ],
          "histogram2dcontour": [
           {
            "colorbar": {
             "outlinewidth": 0,
             "ticks": ""
            },
            "colorscale": [
             [
              0,
              "#0d0887"
             ],
             [
              0.1111111111111111,
              "#46039f"
             ],
             [
              0.2222222222222222,
              "#7201a8"
             ],
             [
              0.3333333333333333,
              "#9c179e"
             ],
             [
              0.4444444444444444,
              "#bd3786"
             ],
             [
              0.5555555555555556,
              "#d8576b"
             ],
             [
              0.6666666666666666,
              "#ed7953"
             ],
             [
              0.7777777777777778,
              "#fb9f3a"
             ],
             [
              0.8888888888888888,
              "#fdca26"
             ],
             [
              1,
              "#f0f921"
             ]
            ],
            "type": "histogram2dcontour"
           }
          ],
          "mesh3d": [
           {
            "colorbar": {
             "outlinewidth": 0,
             "ticks": ""
            },
            "type": "mesh3d"
           }
          ],
          "parcoords": [
           {
            "line": {
             "colorbar": {
              "outlinewidth": 0,
              "ticks": ""
             }
            },
            "type": "parcoords"
           }
          ],
          "pie": [
           {
            "automargin": true,
            "type": "pie"
           }
          ],
          "scatter": [
           {
            "fillpattern": {
             "fillmode": "overlay",
             "size": 10,
             "solidity": 0.2
            },
            "type": "scatter"
           }
          ],
          "scatter3d": [
           {
            "line": {
             "colorbar": {
              "outlinewidth": 0,
              "ticks": ""
             }
            },
            "marker": {
             "colorbar": {
              "outlinewidth": 0,
              "ticks": ""
             }
            },
            "type": "scatter3d"
           }
          ],
          "scattercarpet": [
           {
            "marker": {
             "colorbar": {
              "outlinewidth": 0,
              "ticks": ""
             }
            },
            "type": "scattercarpet"
           }
          ],
          "scattergeo": [
           {
            "marker": {
             "colorbar": {
              "outlinewidth": 0,
              "ticks": ""
             }
            },
            "type": "scattergeo"
           }
          ],
          "scattergl": [
           {
            "marker": {
             "colorbar": {
              "outlinewidth": 0,
              "ticks": ""
             }
            },
            "type": "scattergl"
           }
          ],
          "scattermapbox": [
           {
            "marker": {
             "colorbar": {
              "outlinewidth": 0,
              "ticks": ""
             }
            },
            "type": "scattermapbox"
           }
          ],
          "scatterpolar": [
           {
            "marker": {
             "colorbar": {
              "outlinewidth": 0,
              "ticks": ""
             }
            },
            "type": "scatterpolar"
           }
          ],
          "scatterpolargl": [
           {
            "marker": {
             "colorbar": {
              "outlinewidth": 0,
              "ticks": ""
             }
            },
            "type": "scatterpolargl"
           }
          ],
          "scatterternary": [
           {
            "marker": {
             "colorbar": {
              "outlinewidth": 0,
              "ticks": ""
             }
            },
            "type": "scatterternary"
           }
          ],
          "surface": [
           {
            "colorbar": {
             "outlinewidth": 0,
             "ticks": ""
            },
            "colorscale": [
             [
              0,
              "#0d0887"
             ],
             [
              0.1111111111111111,
              "#46039f"
             ],
             [
              0.2222222222222222,
              "#7201a8"
             ],
             [
              0.3333333333333333,
              "#9c179e"
             ],
             [
              0.4444444444444444,
              "#bd3786"
             ],
             [
              0.5555555555555556,
              "#d8576b"
             ],
             [
              0.6666666666666666,
              "#ed7953"
             ],
             [
              0.7777777777777778,
              "#fb9f3a"
             ],
             [
              0.8888888888888888,
              "#fdca26"
             ],
             [
              1,
              "#f0f921"
             ]
            ],
            "type": "surface"
           }
          ],
          "table": [
           {
            "cells": {
             "fill": {
              "color": "#EBF0F8"
             },
             "line": {
              "color": "white"
             }
            },
            "header": {
             "fill": {
              "color": "#C8D4E3"
             },
             "line": {
              "color": "white"
             }
            },
            "type": "table"
           }
          ]
         },
         "layout": {
          "annotationdefaults": {
           "arrowcolor": "#2a3f5f",
           "arrowhead": 0,
           "arrowwidth": 1
          },
          "autotypenumbers": "strict",
          "coloraxis": {
           "colorbar": {
            "outlinewidth": 0,
            "ticks": ""
           }
          },
          "colorscale": {
           "diverging": [
            [
             0,
             "#8e0152"
            ],
            [
             0.1,
             "#c51b7d"
            ],
            [
             0.2,
             "#de77ae"
            ],
            [
             0.3,
             "#f1b6da"
            ],
            [
             0.4,
             "#fde0ef"
            ],
            [
             0.5,
             "#f7f7f7"
            ],
            [
             0.6,
             "#e6f5d0"
            ],
            [
             0.7,
             "#b8e186"
            ],
            [
             0.8,
             "#7fbc41"
            ],
            [
             0.9,
             "#4d9221"
            ],
            [
             1,
             "#276419"
            ]
           ],
           "sequential": [
            [
             0,
             "#0d0887"
            ],
            [
             0.1111111111111111,
             "#46039f"
            ],
            [
             0.2222222222222222,
             "#7201a8"
            ],
            [
             0.3333333333333333,
             "#9c179e"
            ],
            [
             0.4444444444444444,
             "#bd3786"
            ],
            [
             0.5555555555555556,
             "#d8576b"
            ],
            [
             0.6666666666666666,
             "#ed7953"
            ],
            [
             0.7777777777777778,
             "#fb9f3a"
            ],
            [
             0.8888888888888888,
             "#fdca26"
            ],
            [
             1,
             "#f0f921"
            ]
           ],
           "sequentialminus": [
            [
             0,
             "#0d0887"
            ],
            [
             0.1111111111111111,
             "#46039f"
            ],
            [
             0.2222222222222222,
             "#7201a8"
            ],
            [
             0.3333333333333333,
             "#9c179e"
            ],
            [
             0.4444444444444444,
             "#bd3786"
            ],
            [
             0.5555555555555556,
             "#d8576b"
            ],
            [
             0.6666666666666666,
             "#ed7953"
            ],
            [
             0.7777777777777778,
             "#fb9f3a"
            ],
            [
             0.8888888888888888,
             "#fdca26"
            ],
            [
             1,
             "#f0f921"
            ]
           ]
          },
          "colorway": [
           "#636efa",
           "#EF553B",
           "#00cc96",
           "#ab63fa",
           "#FFA15A",
           "#19d3f3",
           "#FF6692",
           "#B6E880",
           "#FF97FF",
           "#FECB52"
          ],
          "font": {
           "color": "#2a3f5f"
          },
          "geo": {
           "bgcolor": "white",
           "lakecolor": "white",
           "landcolor": "#E5ECF6",
           "showlakes": true,
           "showland": true,
           "subunitcolor": "white"
          },
          "hoverlabel": {
           "align": "left"
          },
          "hovermode": "closest",
          "mapbox": {
           "style": "light"
          },
          "paper_bgcolor": "white",
          "plot_bgcolor": "#E5ECF6",
          "polar": {
           "angularaxis": {
            "gridcolor": "white",
            "linecolor": "white",
            "ticks": ""
           },
           "bgcolor": "#E5ECF6",
           "radialaxis": {
            "gridcolor": "white",
            "linecolor": "white",
            "ticks": ""
           }
          },
          "scene": {
           "xaxis": {
            "backgroundcolor": "#E5ECF6",
            "gridcolor": "white",
            "gridwidth": 2,
            "linecolor": "white",
            "showbackground": true,
            "ticks": "",
            "zerolinecolor": "white"
           },
           "yaxis": {
            "backgroundcolor": "#E5ECF6",
            "gridcolor": "white",
            "gridwidth": 2,
            "linecolor": "white",
            "showbackground": true,
            "ticks": "",
            "zerolinecolor": "white"
           },
           "zaxis": {
            "backgroundcolor": "#E5ECF6",
            "gridcolor": "white",
            "gridwidth": 2,
            "linecolor": "white",
            "showbackground": true,
            "ticks": "",
            "zerolinecolor": "white"
           }
          },
          "shapedefaults": {
           "line": {
            "color": "#2a3f5f"
           }
          },
          "ternary": {
           "aaxis": {
            "gridcolor": "white",
            "linecolor": "white",
            "ticks": ""
           },
           "baxis": {
            "gridcolor": "white",
            "linecolor": "white",
            "ticks": ""
           },
           "bgcolor": "#E5ECF6",
           "caxis": {
            "gridcolor": "white",
            "linecolor": "white",
            "ticks": ""
           }
          },
          "title": {
           "x": 0.05
          },
          "xaxis": {
           "automargin": true,
           "gridcolor": "white",
           "linecolor": "white",
           "ticks": "",
           "title": {
            "standoff": 15
           },
           "zerolinecolor": "white",
           "zerolinewidth": 2
          },
          "yaxis": {
           "automargin": true,
           "gridcolor": "white",
           "linecolor": "white",
           "ticks": "",
           "title": {
            "standoff": 15
           },
           "zerolinecolor": "white",
           "zerolinewidth": 2
          }
         }
        }
       }
      },
      "text/html": [
       "<div>                            <div id=\"4be43526-e007-47e3-9173-0af280fcebcf\" class=\"plotly-graph-div\" style=\"height:525px; width:100%;\"></div>            <script type=\"text/javascript\">                require([\"plotly\"], function(Plotly) {                    window.PLOTLYENV=window.PLOTLYENV || {};                                    if (document.getElementById(\"4be43526-e007-47e3-9173-0af280fcebcf\")) {                    Plotly.newPlot(                        \"4be43526-e007-47e3-9173-0af280fcebcf\",                        [{\"coloraxis\":\"coloraxis\",\"geo\":\"geo\",\"hovertemplate\":\"state_codes=%{location}<br>score.y=%{z}<extra></extra>\",\"locationmode\":\"USA-states\",\"locations\":[\"AL\",\"AK\",\"AZ\",\"AR\",\"CA\",\"CO\",\"CT\",\"DE\",\"DC\",\"FL\",\"GA\",\"HI\",\"ID\",\"IL\",\"IN\",\"IA\",\"KS\",\"KY\",\"LA\",\"ME\",\"MD\",\"MA\",\"MI\",\"MN\",\"MS\",\"MO\",\"MT\",\"NE\",\"NV\",\"NH\",\"NJ\",\"NM\",\"NY\",\"NC\",\"ND\",\"OH\",\"OK\",\"OR\",\"PA\",\"RI\",\"SC\",\"SD\",\"TN\",\"TX\",\"UT\",\"VT\",\"VA\",\"WA\",\"WV\",\"WI\",\"WY\"],\"name\":\"\",\"z\":[26.5,81.4,84.4,21.2,91.6,55.5,33.3,74.1,86.4,100.0,42.4,20.6,68.3,47.0,11.0,3.8,39.8,0.0,33.0,9.5,91.9,23.1,38.1,41.5,16.7,32.7,55.1,42.0,98.6,42.0,59.1,74.5,62.3,50.0,25.5,32.6,39.1,52.5,50.2,63.7,13.0,34.2,44.2,44.7,20.3,23.3,65.9,30.5,25.5,51.5,49.0],\"type\":\"choropleth\"}],                        {\"template\":{\"data\":{\"histogram2dcontour\":[{\"type\":\"histogram2dcontour\",\"colorbar\":{\"outlinewidth\":0,\"ticks\":\"\"},\"colorscale\":[[0.0,\"#0d0887\"],[0.1111111111111111,\"#46039f\"],[0.2222222222222222,\"#7201a8\"],[0.3333333333333333,\"#9c179e\"],[0.4444444444444444,\"#bd3786\"],[0.5555555555555556,\"#d8576b\"],[0.6666666666666666,\"#ed7953\"],[0.7777777777777778,\"#fb9f3a\"],[0.8888888888888888,\"#fdca26\"],[1.0,\"#f0f921\"]]}],\"choropleth\":[{\"type\":\"choropleth\",\"colorbar\":{\"outlinewidth\":0,\"ticks\":\"\"}}],\"histogram2d\":[{\"type\":\"histogram2d\",\"colorbar\":{\"outlinewidth\":0,\"ticks\":\"\"},\"colorscale\":[[0.0,\"#0d0887\"],[0.1111111111111111,\"#46039f\"],[0.2222222222222222,\"#7201a8\"],[0.3333333333333333,\"#9c179e\"],[0.4444444444444444,\"#bd3786\"],[0.5555555555555556,\"#d8576b\"],[0.6666666666666666,\"#ed7953\"],[0.7777777777777778,\"#fb9f3a\"],[0.8888888888888888,\"#fdca26\"],[1.0,\"#f0f921\"]]}],\"heatmap\":[{\"type\":\"heatmap\",\"colorbar\":{\"outlinewidth\":0,\"ticks\":\"\"},\"colorscale\":[[0.0,\"#0d0887\"],[0.1111111111111111,\"#46039f\"],[0.2222222222222222,\"#7201a8\"],[0.3333333333333333,\"#9c179e\"],[0.4444444444444444,\"#bd3786\"],[0.5555555555555556,\"#d8576b\"],[0.6666666666666666,\"#ed7953\"],[0.7777777777777778,\"#fb9f3a\"],[0.8888888888888888,\"#fdca26\"],[1.0,\"#f0f921\"]]}],\"heatmapgl\":[{\"type\":\"heatmapgl\",\"colorbar\":{\"outlinewidth\":0,\"ticks\":\"\"},\"colorscale\":[[0.0,\"#0d0887\"],[0.1111111111111111,\"#46039f\"],[0.2222222222222222,\"#7201a8\"],[0.3333333333333333,\"#9c179e\"],[0.4444444444444444,\"#bd3786\"],[0.5555555555555556,\"#d8576b\"],[0.6666666666666666,\"#ed7953\"],[0.7777777777777778,\"#fb9f3a\"],[0.8888888888888888,\"#fdca26\"],[1.0,\"#f0f921\"]]}],\"contourcarpet\":[{\"type\":\"contourcarpet\",\"colorbar\":{\"outlinewidth\":0,\"ticks\":\"\"}}],\"contour\":[{\"type\":\"contour\",\"colorbar\":{\"outlinewidth\":0,\"ticks\":\"\"},\"colorscale\":[[0.0,\"#0d0887\"],[0.1111111111111111,\"#46039f\"],[0.2222222222222222,\"#7201a8\"],[0.3333333333333333,\"#9c179e\"],[0.4444444444444444,\"#bd3786\"],[0.5555555555555556,\"#d8576b\"],[0.6666666666666666,\"#ed7953\"],[0.7777777777777778,\"#fb9f3a\"],[0.8888888888888888,\"#fdca26\"],[1.0,\"#f0f921\"]]}],\"surface\":[{\"type\":\"surface\",\"colorbar\":{\"outlinewidth\":0,\"ticks\":\"\"},\"colorscale\":[[0.0,\"#0d0887\"],[0.1111111111111111,\"#46039f\"],[0.2222222222222222,\"#7201a8\"],[0.3333333333333333,\"#9c179e\"],[0.4444444444444444,\"#bd3786\"],[0.5555555555555556,\"#d8576b\"],[0.6666666666666666,\"#ed7953\"],[0.7777777777777778,\"#fb9f3a\"],[0.8888888888888888,\"#fdca26\"],[1.0,\"#f0f921\"]]}],\"mesh3d\":[{\"type\":\"mesh3d\",\"colorbar\":{\"outlinewidth\":0,\"ticks\":\"\"}}],\"scatter\":[{\"fillpattern\":{\"fillmode\":\"overlay\",\"size\":10,\"solidity\":0.2},\"type\":\"scatter\"}],\"parcoords\":[{\"type\":\"parcoords\",\"line\":{\"colorbar\":{\"outlinewidth\":0,\"ticks\":\"\"}}}],\"scatterpolargl\":[{\"type\":\"scatterpolargl\",\"marker\":{\"colorbar\":{\"outlinewidth\":0,\"ticks\":\"\"}}}],\"bar\":[{\"error_x\":{\"color\":\"#2a3f5f\"},\"error_y\":{\"color\":\"#2a3f5f\"},\"marker\":{\"line\":{\"color\":\"#E5ECF6\",\"width\":0.5},\"pattern\":{\"fillmode\":\"overlay\",\"size\":10,\"solidity\":0.2}},\"type\":\"bar\"}],\"scattergeo\":[{\"type\":\"scattergeo\",\"marker\":{\"colorbar\":{\"outlinewidth\":0,\"ticks\":\"\"}}}],\"scatterpolar\":[{\"type\":\"scatterpolar\",\"marker\":{\"colorbar\":{\"outlinewidth\":0,\"ticks\":\"\"}}}],\"histogram\":[{\"marker\":{\"pattern\":{\"fillmode\":\"overlay\",\"size\":10,\"solidity\":0.2}},\"type\":\"histogram\"}],\"scattergl\":[{\"type\":\"scattergl\",\"marker\":{\"colorbar\":{\"outlinewidth\":0,\"ticks\":\"\"}}}],\"scatter3d\":[{\"type\":\"scatter3d\",\"line\":{\"colorbar\":{\"outlinewidth\":0,\"ticks\":\"\"}},\"marker\":{\"colorbar\":{\"outlinewidth\":0,\"ticks\":\"\"}}}],\"scattermapbox\":[{\"type\":\"scattermapbox\",\"marker\":{\"colorbar\":{\"outlinewidth\":0,\"ticks\":\"\"}}}],\"scatterternary\":[{\"type\":\"scatterternary\",\"marker\":{\"colorbar\":{\"outlinewidth\":0,\"ticks\":\"\"}}}],\"scattercarpet\":[{\"type\":\"scattercarpet\",\"marker\":{\"colorbar\":{\"outlinewidth\":0,\"ticks\":\"\"}}}],\"carpet\":[{\"aaxis\":{\"endlinecolor\":\"#2a3f5f\",\"gridcolor\":\"white\",\"linecolor\":\"white\",\"minorgridcolor\":\"white\",\"startlinecolor\":\"#2a3f5f\"},\"baxis\":{\"endlinecolor\":\"#2a3f5f\",\"gridcolor\":\"white\",\"linecolor\":\"white\",\"minorgridcolor\":\"white\",\"startlinecolor\":\"#2a3f5f\"},\"type\":\"carpet\"}],\"table\":[{\"cells\":{\"fill\":{\"color\":\"#EBF0F8\"},\"line\":{\"color\":\"white\"}},\"header\":{\"fill\":{\"color\":\"#C8D4E3\"},\"line\":{\"color\":\"white\"}},\"type\":\"table\"}],\"barpolar\":[{\"marker\":{\"line\":{\"color\":\"#E5ECF6\",\"width\":0.5},\"pattern\":{\"fillmode\":\"overlay\",\"size\":10,\"solidity\":0.2}},\"type\":\"barpolar\"}],\"pie\":[{\"automargin\":true,\"type\":\"pie\"}]},\"layout\":{\"autotypenumbers\":\"strict\",\"colorway\":[\"#636efa\",\"#EF553B\",\"#00cc96\",\"#ab63fa\",\"#FFA15A\",\"#19d3f3\",\"#FF6692\",\"#B6E880\",\"#FF97FF\",\"#FECB52\"],\"font\":{\"color\":\"#2a3f5f\"},\"hovermode\":\"closest\",\"hoverlabel\":{\"align\":\"left\"},\"paper_bgcolor\":\"white\",\"plot_bgcolor\":\"#E5ECF6\",\"polar\":{\"bgcolor\":\"#E5ECF6\",\"angularaxis\":{\"gridcolor\":\"white\",\"linecolor\":\"white\",\"ticks\":\"\"},\"radialaxis\":{\"gridcolor\":\"white\",\"linecolor\":\"white\",\"ticks\":\"\"}},\"ternary\":{\"bgcolor\":\"#E5ECF6\",\"aaxis\":{\"gridcolor\":\"white\",\"linecolor\":\"white\",\"ticks\":\"\"},\"baxis\":{\"gridcolor\":\"white\",\"linecolor\":\"white\",\"ticks\":\"\"},\"caxis\":{\"gridcolor\":\"white\",\"linecolor\":\"white\",\"ticks\":\"\"}},\"coloraxis\":{\"colorbar\":{\"outlinewidth\":0,\"ticks\":\"\"}},\"colorscale\":{\"sequential\":[[0.0,\"#0d0887\"],[0.1111111111111111,\"#46039f\"],[0.2222222222222222,\"#7201a8\"],[0.3333333333333333,\"#9c179e\"],[0.4444444444444444,\"#bd3786\"],[0.5555555555555556,\"#d8576b\"],[0.6666666666666666,\"#ed7953\"],[0.7777777777777778,\"#fb9f3a\"],[0.8888888888888888,\"#fdca26\"],[1.0,\"#f0f921\"]],\"sequentialminus\":[[0.0,\"#0d0887\"],[0.1111111111111111,\"#46039f\"],[0.2222222222222222,\"#7201a8\"],[0.3333333333333333,\"#9c179e\"],[0.4444444444444444,\"#bd3786\"],[0.5555555555555556,\"#d8576b\"],[0.6666666666666666,\"#ed7953\"],[0.7777777777777778,\"#fb9f3a\"],[0.8888888888888888,\"#fdca26\"],[1.0,\"#f0f921\"]],\"diverging\":[[0,\"#8e0152\"],[0.1,\"#c51b7d\"],[0.2,\"#de77ae\"],[0.3,\"#f1b6da\"],[0.4,\"#fde0ef\"],[0.5,\"#f7f7f7\"],[0.6,\"#e6f5d0\"],[0.7,\"#b8e186\"],[0.8,\"#7fbc41\"],[0.9,\"#4d9221\"],[1,\"#276419\"]]},\"xaxis\":{\"gridcolor\":\"white\",\"linecolor\":\"white\",\"ticks\":\"\",\"title\":{\"standoff\":15},\"zerolinecolor\":\"white\",\"automargin\":true,\"zerolinewidth\":2},\"yaxis\":{\"gridcolor\":\"white\",\"linecolor\":\"white\",\"ticks\":\"\",\"title\":{\"standoff\":15},\"zerolinecolor\":\"white\",\"automargin\":true,\"zerolinewidth\":2},\"scene\":{\"xaxis\":{\"backgroundcolor\":\"#E5ECF6\",\"gridcolor\":\"white\",\"linecolor\":\"white\",\"showbackground\":true,\"ticks\":\"\",\"zerolinecolor\":\"white\",\"gridwidth\":2},\"yaxis\":{\"backgroundcolor\":\"#E5ECF6\",\"gridcolor\":\"white\",\"linecolor\":\"white\",\"showbackground\":true,\"ticks\":\"\",\"zerolinecolor\":\"white\",\"gridwidth\":2},\"zaxis\":{\"backgroundcolor\":\"#E5ECF6\",\"gridcolor\":\"white\",\"linecolor\":\"white\",\"showbackground\":true,\"ticks\":\"\",\"zerolinecolor\":\"white\",\"gridwidth\":2}},\"shapedefaults\":{\"line\":{\"color\":\"#2a3f5f\"}},\"annotationdefaults\":{\"arrowcolor\":\"#2a3f5f\",\"arrowhead\":0,\"arrowwidth\":1},\"geo\":{\"bgcolor\":\"white\",\"landcolor\":\"#E5ECF6\",\"subunitcolor\":\"white\",\"showland\":true,\"showlakes\":true,\"lakecolor\":\"white\"},\"title\":{\"x\":0.05},\"mapbox\":{\"style\":\"light\"}}},\"geo\":{\"domain\":{\"x\":[0.0,1.0],\"y\":[0.0,1.0]},\"center\":{},\"scope\":\"usa\"},\"coloraxis\":{\"colorbar\":{\"title\":{\"text\":\"score.y\"}},\"colorscale\":[[0.0,\"#fde725\"],[0.1111111111111111,\"#b5de2b\"],[0.2222222222222222,\"#6ece58\"],[0.3333333333333333,\"#35b779\"],[0.4444444444444444,\"#1f9e89\"],[0.5555555555555556,\"#26828e\"],[0.6666666666666666,\"#31688e\"],[0.7777777777777778,\"#3e4989\"],[0.8888888888888888,\"#482878\"],[1.0,\"#440154\"]]},\"legend\":{\"tracegroupgap\":0},\"margin\":{\"t\":60}},                        {\"responsive\": true}                    ).then(function(){\n",
       "                            \n",
       "var gd = document.getElementById('4be43526-e007-47e3-9173-0af280fcebcf');\n",
       "var x = new MutationObserver(function (mutations, observer) {{\n",
       "        var display = window.getComputedStyle(gd).display;\n",
       "        if (!display || display === 'none') {{\n",
       "            console.log([gd, 'removed!']);\n",
       "            Plotly.purge(gd);\n",
       "            observer.disconnect();\n",
       "        }}\n",
       "}});\n",
       "\n",
       "// Listen for the removal of the full notebook cells\n",
       "var notebookContainer = gd.closest('#notebook-container');\n",
       "if (notebookContainer) {{\n",
       "    x.observe(notebookContainer, {childList: true});\n",
       "}}\n",
       "\n",
       "// Listen for the clearing of the current output cell\n",
       "var outputEl = gd.closest('.output');\n",
       "if (outputEl) {{\n",
       "    x.observe(outputEl, {childList: true});\n",
       "}}\n",
       "\n",
       "                        })                };                });            </script>        </div>"
      ]
     },
     "metadata": {},
     "output_type": "display_data"
    }
   ],
   "source": [
    "#contrast with school district safety score (score.y)\n",
    "\n",
    "fig1 = px.choropleth(sexual_factors, \n",
    "                    locations='state_codes', \n",
    "                    locationmode='USA-states', \n",
    "                    scope='usa', \n",
    "                    color='score.y', \n",
    "                    color_continuous_scale='Viridis_r')\n",
    "fig1.show()"
   ]
  },
  {
   "cell_type": "markdown",
   "id": "ace37f27",
   "metadata": {},
   "source": [
    "## Victims Profile\n",
    "\n",
    "### Getting closer to the victims of sexual offense, who are they? The age and sex distribution are included in order to find the out who is more likely be targeted."
   ]
  },
  {
   "cell_type": "markdown",
   "id": "a256bd0d",
   "metadata": {},
   "source": [
    "### Victims Sex Distribution"
   ]
  },
  {
   "cell_type": "code",
   "execution_count": 40,
   "id": "e2159e32",
   "metadata": {},
   "outputs": [
    {
     "data": {
      "text/plain": [
       "Text(0, 0.5, '')"
      ]
     },
     "execution_count": 40,
     "metadata": {},
     "output_type": "execute_result"
    },
    {
     "data": {
      "image/png": "[encoded data removed]",
      "text/plain": [
       "<Figure size 720x504 with 1 Axes>"
      ]
     },
     "metadata": {
      "needs_background": "light"
     },
     "output_type": "display_data"
    },
    {
     "data": {
      "image/png": "[encoded data removed]",
      "text/plain": [
       "<Figure size 720x720 with 1 Axes>"
      ]
     },
     "metadata": {},
     "output_type": "display_data"
    }
   ],
   "source": [
    "sex = pd.read_excel(\"./data/victim_sex.xlsx\", skiprows = 5)\n",
    "sex.columns = [\"offense category\", \"total\", \"male\", \"female\", \"unknown sex\"]\n",
    "sex = sex[sex[\"offense category\"]==\"Sex Offenses\"].transpose()\n",
    "sex.columns = [\"victims\"]\n",
    "\n",
    "#Bar plot of victims by sex\n",
    "sex.iloc[2:].plot.bar(legend=None, figsize=(10, 7))\n",
    "plt.xlabel(\"sex\", fontsize = 14)\n",
    "plt.ylabel(\"number of victims\", fontsize = 14)\n",
    "plt.title(\"Sex Offense Victims by Sex\", fontsize = 16)\n",
    "plt.xticks(rotation = 0)\n",
    "\n",
    "#Pie graph of victims' sex distribution\n",
    "ax = sex.iloc[2:].plot.pie(y=\"victims\", figsize=(10,10), autopct='%1.1f%%')\n",
    "plt.legend(loc=\"upper left\")\n",
    "plt.title(\"Sexual Offense Victims Proportion by Sex\", fontsize = 16)\n",
    "ax.set_ylabel('')"
   ]
  },
  {
   "cell_type": "markdown",
   "id": "aee4f2b3",
   "metadata": {},
   "source": [
    "### It's evident that victims are overwhelmingly females, made up 87.4% of all victims. Now we know the sex distribution. What about age? Are the young ladies more likely to be the target? Or the immatured, vulnerable underaged girls? "
   ]
  },
  {
   "cell_type": "markdown",
   "id": "4070733a",
   "metadata": {},
   "source": [
    "### Victim Age Distribution"
   ]
  },
  {
   "cell_type": "code",
   "execution_count": 41,
   "id": "f9f53e19",
   "metadata": {},
   "outputs": [
    {
     "data": {
      "image/png": "[encoded data removed]",
      "text/plain": [
       "<Figure size 720x504 with 1 Axes>"
      ]
     },
     "metadata": {
      "needs_background": "light"
     },
     "output_type": "display_data"
    }
   ],
   "source": [
    "age = pd.read_excel(\"./data/victim_age.xlsx\", skiprows = 5)\n",
    "age = age[age[\"Offense Category\"]==\"Sex Offenses\"]\n",
    "age = age.drop(columns=[\"Unnamed: 1\"]).transpose().iloc[1:]\n",
    "age.reset_index(inplace=True)\n",
    "age.columns = [\"age\", \"number\"]\n",
    "\n",
    "# age.plot.bar(legend=None)\n",
    "plt.figure(figsize=(10,7))\n",
    "sns.histplot(x=age[\"age\"], weights=age[\"number\"], discrete=True,\n",
    "             color='darkblue', edgecolor='black', kde=True)\n",
    "plt.xticks(rotation = 90)\n",
    "plt.xlabel(\"age\", fontsize = 14)\n",
    "plt.ylabel(\"number of victims\", fontsize = 14)\n",
    "plt.title(\"Sexual Offense Victims by Age\", fontsize = 16)\n",
    "plt.show()"
   ]
  },
  {
   "cell_type": "markdown",
   "id": "9f59696a",
   "metadata": {},
   "source": [
    "### 5 years for each age category. Left skewed curve shows that majority of the victims are in young ages, mostly between 11-15 who are vulnerable underaged teen and even children."
   ]
  },
  {
   "cell_type": "markdown",
   "id": "d4394368",
   "metadata": {},
   "source": [
    "## Offender Profile\n",
    "\n",
    "### After the victims proflie, who are the offenders? What's their sex distribution, age distribution? Will these two parameters have the same pattern for victims and offenders? Besides sex and age, relationship with the victim and the offender drug+alcohol use are also included. Do the offenders know the victims? Or they are total strangers. For alcohol is always used as an justification for wrong doing, are the offenders sober when they commit crime?"
   ]
  },
  {
   "cell_type": "markdown",
   "id": "7c027ee3",
   "metadata": {},
   "source": [
    "### Offender Sex Distribution vs Victims Sex Distribution"
   ]
  },
  {
   "cell_type": "code",
   "execution_count": 42,
   "id": "16fd7165",
   "metadata": {},
   "outputs": [],
   "source": [
    "offend_sex = pd.read_excel(\"./data/offender_sex.xlsx\", skiprows = 5)\n",
    "offend_sex.columns = [\"offense category\", \"total\", \"male\", \"female\", \"unknown sex\"]\n",
    "\n",
    "offend_sex = offend_sex[offend_sex[\"offense category\"]==\"Sex Offenses\"].transpose().iloc[1:]\n",
    "offend_sex.columns = [\"offenders\"]\n",
    "sex_both = pd.concat([sex, offend_sex], axis =1).iloc[1:].drop([\"total\"])"
   ]
  },
  {
   "cell_type": "code",
   "execution_count": 43,
   "id": "09cf895c",
   "metadata": {},
   "outputs": [
    {
     "data": {
      "text/plain": [
       "Text(0.5, 1.0, 'Sexual Offense Victims vs. Offenders by Sex')"
      ]
     },
     "execution_count": 43,
     "metadata": {},
     "output_type": "execute_result"
    },
    {
     "data": {
      "image/png": "[encoded data removed]",
      "text/plain": [
       "<Figure size 864x576 with 1 Axes>"
      ]
     },
     "metadata": {
      "needs_background": "light"
     },
     "output_type": "display_data"
    }
   ],
   "source": [
    "sex_both.plot.bar(figsize=(12,8))\n",
    "plt.xlabel(\"sex\", fontsize = 14)\n",
    "plt.ylabel(\"number of victims/offenders\", fontsize = 14)\n",
    "plt.title(\"Sexual Offense Victims vs. Offenders by Sex\", fontsize = 16)\n",
    "\n",
    "# delete total"
   ]
  },
  {
   "cell_type": "markdown",
   "id": "ab98f00d",
   "metadata": {},
   "source": [
    "### The result shows a opposite trend. The female victims outnumber the male victims while male offenders outnumber the female victims."
   ]
  },
  {
   "cell_type": "markdown",
   "id": "4bd40522",
   "metadata": {},
   "source": [
    "### Offender Age Distribution"
   ]
  },
  {
   "cell_type": "code",
   "execution_count": 44,
   "id": "c7e7d094",
   "metadata": {},
   "outputs": [
    {
     "data": {
      "text/plain": [
       "Text(0.5, 1.0, 'Sexual Offense Offenders by Age')"
      ]
     },
     "execution_count": 44,
     "metadata": {},
     "output_type": "execute_result"
    },
    {
     "data": {
      "image/png": "[encoded data removed]",
      "text/plain": [
       "<Figure size 864x576 with 1 Axes>"
      ]
     },
     "metadata": {
      "needs_background": "light"
     },
     "output_type": "display_data"
    }
   ],
   "source": [
    "offend_age = pd.read_excel(\"./data/offender_age.xlsx\", skiprows = 5)\n",
    "\n",
    "offend_age = offend_age[offend_age[\"Offense Category\"]==\"Sex Offenses\"]\n",
    "offend_age = offend_age.drop(columns=[\"Unnamed: 1\"]).transpose().iloc[1:]\n",
    "offend_age.columns = [\"number\"]\n",
    "offend_age.plot.bar(legend=None, color = \"orange\", figsize=(12,8))\n",
    "plt.xlabel(\"age\", fontsize = 14)\n",
    "plt.ylabel(\"number of offenders\", fontsize = 14)\n",
    "plt.title(\"Sexual Offense Offenders by Age\", fontsize = 16)"
   ]
  },
  {
   "cell_type": "markdown",
   "id": "fe1254ad",
   "metadata": {},
   "source": [
    "### Offender age distribution is also left skewed but smoother. Most of the offenders are teenagers and physically capable adults who are between 11-35."
   ]
  },
  {
   "cell_type": "markdown",
   "id": "379dfe09",
   "metadata": {},
   "source": [
    "### Relationship with the Victim"
   ]
  },
  {
   "cell_type": "code",
   "execution_count": 46,
   "id": "c493c074",
   "metadata": {},
   "outputs": [
    {
     "data": {
      "text/plain": [
       "Text(0, 0.5, '')"
      ]
     },
     "execution_count": 46,
     "metadata": {},
     "output_type": "execute_result"
    },
    {
     "data": {
      "image/png": "[encoded data removed]",
      "text/plain": [
       "<Figure size 864x576 with 1 Axes>"
      ]
     },
     "metadata": {},
     "output_type": "display_data"
    }
   ],
   "source": [
    "relation = pd.read_excel(\"./data/relationship.xlsx\", skiprows = 4)\n",
    "relation.columns = [\"offense category\", \"total\", \"family member\", \"family member and other\",\n",
    "                   \"known to victims and other\", \"stranger\", \"all other\"]\n",
    "relation = relation[relation[\"offense category\"]==\"Sex Offenses\"]\n",
    "relation[\"family member and other\"] = relation[\"family member\"] + relation[\"family member and other\"]\n",
    "\n",
    "relation = relation.drop(columns = [\"total\", \"family member\"]).transpose().iloc[1:]\n",
    "relation.columns = [\"number\"]\n",
    "ax = relation.plot.pie(y=\"number\", figsize=(12, 8), autopct='%1.1f%%')\n",
    "plt.legend(loc=\"upper left\")\n",
    "plt.xlabel(\"relationships\", fontsize = 14)\n",
    "plt.title(\"Offenders' Relationship With Victims Proportion\", fontsize = 16)\n",
    "ax.set_ylabel('')"
   ]
  },
  {
   "cell_type": "markdown",
   "id": "168948be",
   "metadata": {},
   "source": [
    "### \"Family member and other\" category consists victims related to all offenders and victims related to at least one offenders. They together made up 80.5% of the cases, indicating most of the offenses are done by acquaintance. "
   ]
  },
  {
   "cell_type": "markdown",
   "id": "d9cc4a67",
   "metadata": {},
   "source": [
    "### Offender Use of Drug or Alcohol"
   ]
  },
  {
   "cell_type": "code",
   "execution_count": 47,
   "id": "0fbd9ac6",
   "metadata": {},
   "outputs": [
    {
     "data": {
      "text/plain": [
       "Text(0, 0.5, '')"
      ]
     },
     "execution_count": 47,
     "metadata": {},
     "output_type": "execute_result"
    },
    {
     "data": {
      "image/png": "[encoded data removed]",
      "text/plain": [
       "<Figure size 864x576 with 1 Axes>"
      ]
     },
     "metadata": {},
     "output_type": "display_data"
    }
   ],
   "source": [
    "sober = pd.read_excel(\"./data/drug_alco.xlsx\", skiprows = 5)\n",
    "sober.columns = [\"offense category\", \"total\", \"drugs\", \"percentage_drug\",\n",
    "                \"alcohol\", \"percentage_alco\"]\n",
    "sober = sober[sober[\"offense category\"]==\"Sex Offenses\"].drop(columns = [\"percentage_drug\", \"percentage_alco\"])\n",
    "sober[\"no use\"] = sober[\"total\"] - sober[\"drugs\"] - sober[\"alcohol\"]\n",
    "sober = sober.drop(columns = [\"total\"]).transpose().iloc[1:]\n",
    "sober.columns = [\"number\"]\n",
    "\n",
    "ax = sober.plot.pie(y=\"number\", figsize=(12, 8), autopct='%1.1f%%', label = None)\n",
    "plt.legend(loc=\"upper left\")\n",
    "plt.xlabel(\"use of drug or alcohol\", fontsize = 14)\n",
    "plt.title(\"Proportion of Offenders Use Alcohol or Drug in Sexual Offenses\", fontsize = 16)\n",
    "ax.set_ylabel('')"
   ]
  },
  {
   "cell_type": "markdown",
   "id": "d567ac76",
   "metadata": {},
   "source": [
    "### Nearly 90% of the sexual offense is commited when offenders are sober, free from any use of alcohol or drugs."
   ]
  },
  {
   "cell_type": "code",
   "execution_count": 48,
   "id": "8a4be1e7",
   "metadata": {},
   "outputs": [],
   "source": [
    "# All the data used in previous analysis are from FBI Crime Data Explorer"
   ]
  },
  {
   "cell_type": "markdown",
   "id": "ae78006d",
   "metadata": {},
   "source": [
    "# State-level demographical features\n",
    "\n",
    "### The purpose of the project is to find out whether the demographic features will affect sexual offense rate. What are those features? I have decided to include 8 features: police spending, primary and secondary school teacher average salary, poverty rate, GDP per capita, education spending per pupil, drug overdose mortality rate, binge drinking rate, and bachelor degree attainment rate."
   ]
  },
  {
   "cell_type": "code",
   "execution_count": 49,
   "id": "986c61ba",
   "metadata": {},
   "outputs": [
    {
     "data": {
      "text/html": [
       "<div>\n",
       "<style scoped>\n",
       "    .dataframe tbody tr th:only-of-type {\n",
       "        vertical-align: middle;\n",
       "    }\n",
       "\n",
       "    .dataframe tbody tr th {\n",
       "        vertical-align: top;\n",
       "    }\n",
       "\n",
       "    .dataframe thead th {\n",
       "        text-align: right;\n",
       "    }\n",
       "</style>\n",
       "<table border=\"1\" class=\"dataframe\">\n",
       "  <thead>\n",
       "    <tr style=\"text-align: right;\">\n",
       "      <th></th>\n",
       "      <th>state</th>\n",
       "      <th>reported_rape_cases</th>\n",
       "      <th>rape_arrests</th>\n",
       "      <th>sex_offense_arrests</th>\n",
       "      <th>salary</th>\n",
       "      <th>score.x</th>\n",
       "      <th>score.y</th>\n",
       "      <th>policing_correction_spend_per_capita</th>\n",
       "      <th>policing_correction_expenditure</th>\n",
       "      <th>correction_spending_per</th>\n",
       "      <th>state_codes</th>\n",
       "      <th>sex offenses</th>\n",
       "      <th>population</th>\n",
       "      <th>sex_rate</th>\n",
       "      <th>year</th>\n",
       "    </tr>\n",
       "  </thead>\n",
       "  <tbody>\n",
       "    <tr>\n",
       "      <th>44</th>\n",
       "      <td>Utah</td>\n",
       "      <td>5134</td>\n",
       "      <td>291</td>\n",
       "      <td>498</td>\n",
       "      <td>54678</td>\n",
       "      <td>55.53</td>\n",
       "      <td>20.3</td>\n",
       "      <td>484</td>\n",
       "      <td>1553</td>\n",
       "      <td>68%</td>\n",
       "      <td>UT</td>\n",
       "      <td>5134.0</td>\n",
       "      <td>3337975.0</td>\n",
       "      <td>153.8</td>\n",
       "      <td>2021</td>\n",
       "    </tr>\n",
       "    <tr>\n",
       "      <th>26</th>\n",
       "      <td>Montana</td>\n",
       "      <td>1680</td>\n",
       "      <td>62</td>\n",
       "      <td>118</td>\n",
       "      <td>52135</td>\n",
       "      <td>51.55</td>\n",
       "      <td>55.1</td>\n",
       "      <td>608</td>\n",
       "      <td>649</td>\n",
       "      <td>74%</td>\n",
       "      <td>MT</td>\n",
       "      <td>1680.0</td>\n",
       "      <td>1104271.0</td>\n",
       "      <td>152.1</td>\n",
       "      <td>2021</td>\n",
       "    </tr>\n",
       "    <tr>\n",
       "      <th>34</th>\n",
       "      <td>North Dakota</td>\n",
       "      <td>1121</td>\n",
       "      <td>51</td>\n",
       "      <td>81</td>\n",
       "      <td>53525</td>\n",
       "      <td>58.42</td>\n",
       "      <td>25.5</td>\n",
       "      <td>574</td>\n",
       "      <td>437</td>\n",
       "      <td>70%</td>\n",
       "      <td>ND</td>\n",
       "      <td>1121.0</td>\n",
       "      <td>774948.0</td>\n",
       "      <td>144.7</td>\n",
       "      <td>2021</td>\n",
       "    </tr>\n",
       "    <tr>\n",
       "      <th>41</th>\n",
       "      <td>South Dakota</td>\n",
       "      <td>1155</td>\n",
       "      <td>36</td>\n",
       "      <td>51</td>\n",
       "      <td>48984</td>\n",
       "      <td>51.19</td>\n",
       "      <td>34.2</td>\n",
       "      <td>478</td>\n",
       "      <td>423</td>\n",
       "      <td>85%</td>\n",
       "      <td>SD</td>\n",
       "      <td>1155.0</td>\n",
       "      <td>895376.0</td>\n",
       "      <td>129.0</td>\n",
       "      <td>2021</td>\n",
       "    </tr>\n",
       "    <tr>\n",
       "      <th>29</th>\n",
       "      <td>New Hampshire</td>\n",
       "      <td>1790</td>\n",
       "      <td>71</td>\n",
       "      <td>100</td>\n",
       "      <td>59622</td>\n",
       "      <td>59.19</td>\n",
       "      <td>42.0</td>\n",
       "      <td>525</td>\n",
       "      <td>714</td>\n",
       "      <td>45%</td>\n",
       "      <td>NH</td>\n",
       "      <td>1790.0</td>\n",
       "      <td>1388992.0</td>\n",
       "      <td>128.9</td>\n",
       "      <td>2021</td>\n",
       "    </tr>\n",
       "  </tbody>\n",
       "</table>\n",
       "</div>"
      ],
      "text/plain": [
       "            state  reported_rape_cases  rape_arrests  sex_offense_arrests  \\\n",
       "44           Utah                 5134           291                  498   \n",
       "26        Montana                 1680            62                  118   \n",
       "34   North Dakota                 1121            51                   81   \n",
       "41   South Dakota                 1155            36                   51   \n",
       "29  New Hampshire                 1790            71                  100   \n",
       "\n",
       "    salary  score.x  score.y  policing_correction_spend_per_capita  \\\n",
       "44   54678    55.53     20.3                                   484   \n",
       "26   52135    51.55     55.1                                   608   \n",
       "34   53525    58.42     25.5                                   574   \n",
       "41   48984    51.19     34.2                                   478   \n",
       "29   59622    59.19     42.0                                   525   \n",
       "\n",
       "    policing_correction_expenditure correction_spending_per state_codes  \\\n",
       "44                             1553                     68%          UT   \n",
       "26                              649                     74%          MT   \n",
       "34                              437                     70%          ND   \n",
       "41                              423                     85%          SD   \n",
       "29                              714                     45%          NH   \n",
       "\n",
       "    sex offenses  population  sex_rate  year  \n",
       "44        5134.0   3337975.0     153.8  2021  \n",
       "26        1680.0   1104271.0     152.1  2021  \n",
       "34        1121.0    774948.0     144.7  2021  \n",
       "41        1155.0    895376.0     129.0  2021  \n",
       "29        1790.0   1388992.0     128.9  2021  "
      ]
     },
     "execution_count": 49,
     "metadata": {},
     "output_type": "execute_result"
    }
   ],
   "source": [
    "# data adding and cleaning\n",
    "\n",
    "sexual_factors.sort_values(\"sex_rate\", ascending = False).head()"
   ]
  },
  {
   "cell_type": "code",
   "execution_count": 113,
   "id": "02841d71",
   "metadata": {},
   "outputs": [],
   "source": [
    "poverty_state = pd.read_excel(\"./data/poverty_state.xlsx\").drop(columns=[\"Unnamed: 2\"]).rename(columns={\"below_poverty\":\n",
    "                                                                                                       \"poverty_rate\"})\n",
    "\n",
    "sex_offense = sexual_factors.merge(poverty_state, how=\"left\", on=\"state\").merge(gdp21, how=\"left\", on = [\"state\", \"year\"])\n",
    "\n",
    "# original data selection\n",
    "selected = sex_offense[[\"state\",\n",
    "                        \"salary\",\n",
    "                        \"policing_correction_spend_per_capita\",\n",
    "                        \"poverty_rate\",\n",
    "                        \"sex_rate\",\"year\",\n",
    "                        \"gdp_capita\"]]\n"
   ]
  },
  {
   "cell_type": "code",
   "execution_count": 114,
   "id": "45397f5d",
   "metadata": {},
   "outputs": [
    {
     "data": {
      "text/html": [
       "<div>\n",
       "<style scoped>\n",
       "    .dataframe tbody tr th:only-of-type {\n",
       "        vertical-align: middle;\n",
       "    }\n",
       "\n",
       "    .dataframe tbody tr th {\n",
       "        vertical-align: top;\n",
       "    }\n",
       "\n",
       "    .dataframe thead th {\n",
       "        text-align: right;\n",
       "    }\n",
       "</style>\n",
       "<table border=\"1\" class=\"dataframe\">\n",
       "  <thead>\n",
       "    <tr style=\"text-align: right;\">\n",
       "      <th></th>\n",
       "      <th>policing_correction_spend_per_capita</th>\n",
       "      <th>salary</th>\n",
       "      <th>poverty_rate</th>\n",
       "      <th>sex_rate</th>\n",
       "      <th>gdp_capita</th>\n",
       "      <th>edu_spending_per_pupil</th>\n",
       "      <th>drug_mortality</th>\n",
       "      <th>binge_drink_rate</th>\n",
       "      <th>bachelor_rate</th>\n",
       "    </tr>\n",
       "  </thead>\n",
       "  <tbody>\n",
       "    <tr>\n",
       "      <th>0</th>\n",
       "      <td>405.28</td>\n",
       "      <td>49781.0</td>\n",
       "      <td>17.2</td>\n",
       "      <td>39.4</td>\n",
       "      <td>37158.0</td>\n",
       "      <td>9242.677695</td>\n",
       "      <td>16.2</td>\n",
       "      <td>17.69</td>\n",
       "      <td>7.1</td>\n",
       "    </tr>\n",
       "    <tr>\n",
       "      <th>1</th>\n",
       "      <td>954.48</td>\n",
       "      <td>67443.0</td>\n",
       "      <td>9.9</td>\n",
       "      <td>141.9</td>\n",
       "      <td>63304.0</td>\n",
       "      <td>17509.975316</td>\n",
       "      <td>16.8</td>\n",
       "      <td>19.53</td>\n",
       "      <td>7.4</td>\n",
       "    </tr>\n",
       "    <tr>\n",
       "      <th>2</th>\n",
       "      <td>569.62</td>\n",
       "      <td>45477.0</td>\n",
       "      <td>16.4</td>\n",
       "      <td>47.5</td>\n",
       "      <td>38940.0</td>\n",
       "      <td>7613.006435</td>\n",
       "      <td>20.3</td>\n",
       "      <td>18.50</td>\n",
       "      <td>7.7</td>\n",
       "    </tr>\n",
       "    <tr>\n",
       "      <th>3</th>\n",
       "      <td>396.26</td>\n",
       "      <td>48220.0</td>\n",
       "      <td>17.2</td>\n",
       "      <td>71.7</td>\n",
       "      <td>36502.0</td>\n",
       "      <td>9845.568548</td>\n",
       "      <td>14.0</td>\n",
       "      <td>16.71</td>\n",
       "      <td>7.6</td>\n",
       "    </tr>\n",
       "    <tr>\n",
       "      <th>4</th>\n",
       "      <td>843.21</td>\n",
       "      <td>72842.0</td>\n",
       "      <td>14.4</td>\n",
       "      <td>34.9</td>\n",
       "      <td>58974.0</td>\n",
       "      <td>11495.363449</td>\n",
       "      <td>11.2</td>\n",
       "      <td>19.98</td>\n",
       "      <td>10.0</td>\n",
       "    </tr>\n",
       "  </tbody>\n",
       "</table>\n",
       "</div>"
      ],
      "text/plain": [
       "   policing_correction_spend_per_capita   salary  poverty_rate  sex_rate  \\\n",
       "0                                405.28  49781.0          17.2      39.4   \n",
       "1                                954.48  67443.0           9.9     141.9   \n",
       "2                                569.62  45477.0          16.4      47.5   \n",
       "3                                396.26  48220.0          17.2      71.7   \n",
       "4                                843.21  72842.0          14.4      34.9   \n",
       "\n",
       "   gdp_capita  edu_spending_per_pupil  drug_mortality  binge_drink_rate  \\\n",
       "0     37158.0             9242.677695            16.2             17.69   \n",
       "1     63304.0            17509.975316            16.8             19.53   \n",
       "2     38940.0             7613.006435            20.3             18.50   \n",
       "3     36502.0             9845.568548            14.0             16.71   \n",
       "4     58974.0            11495.363449            11.2             19.98   \n",
       "\n",
       "   bachelor_rate  \n",
       "0            7.1  \n",
       "1            7.4  \n",
       "2            7.7  \n",
       "3            7.6  \n",
       "4           10.0  "
      ]
     },
     "execution_count": 114,
     "metadata": {},
     "output_type": "execute_result"
    }
   ],
   "source": [
    "all_list = [past_data, selected]\n",
    "sex_offense_new = pd.concat(all_list)\n",
    "sex_offense_new = sex_offense_new[(sex_offense_new[\"year\"]>2015) & (sex_offense_new[\"year\"]<2020)]\n",
    "model_data = sex_offense_new.merge(edu_spending, \n",
    "                                   on=[\"year\", \"state\"], \n",
    "                                   how = \"left\").merge(drug,\n",
    "                                                       on=[\"year\", \"state\"], \n",
    "                                                       how = \"left\").merge(binge_drinking,\n",
    "                                                                           on=[\"state\", \"year\"],\n",
    "                                                                           how = \"left\").merge(edu_attainment,\n",
    "                                                                                               on=[\"state\", \"year\"], \n",
    "                                                                                               how = \"left\")\n",
    "model_data = model_data.drop(columns=[\"state\", \"year\"]).dropna()\n",
    "model_data.head()"
   ]
  },
  {
   "cell_type": "code",
   "execution_count": 106,
   "id": "f08c3aaf",
   "metadata": {},
   "outputs": [],
   "source": [
    "X=model_data.drop(columns = [\"sex_rate\"])\n",
    "y=model_data[\"sex_rate\"]"
   ]
  },
  {
   "cell_type": "code",
   "execution_count": 107,
   "id": "09165070",
   "metadata": {},
   "outputs": [],
   "source": [
    "from sklearn.ensemble import RandomForestRegressor\n",
    "from sklearn.datasets import make_classification\n",
    "from sklearn.model_selection import train_test_split\n",
    "from sklearn.metrics import accuracy_score, confusion_matrix, classification_report\n",
    "from sklearn.metrics import r2_score\n",
    "from rfpimp import permutation_importances\n",
    "\n",
    "X_train, X_test, ytrain, ytest = train_test_split(X, y, test_size=0.3, random_state=42)"
   ]
  },
  {
   "cell_type": "code",
   "execution_count": 108,
   "id": "646a58fc",
   "metadata": {},
   "outputs": [
    {
     "data": {
      "text/plain": [
       "RandomForestRegressor(max_depth=2, oob_score=True, random_state=0)"
      ]
     },
     "execution_count": 108,
     "metadata": {},
     "output_type": "execute_result"
    }
   ],
   "source": [
    "rf = RandomForestRegressor(max_depth=2, random_state=0, oob_score = True)\n",
    "rf.fit(X_train, ytrain)"
   ]
  },
  {
   "cell_type": "code",
   "execution_count": 109,
   "id": "4b2099e7",
   "metadata": {},
   "outputs": [],
   "source": [
    "y_pred_test = rf.predict(X_test)"
   ]
  },
  {
   "cell_type": "code",
   "execution_count": 110,
   "id": "5356df00",
   "metadata": {},
   "outputs": [
    {
     "name": "stdout",
     "output_type": "stream",
     "text": [
      "R^2 Training Score: 0.69 \n",
      "OOB Score: 0.52 \n",
      "R^2 Validation Score: 0.08\n"
     ]
    }
   ],
   "source": [
    "print('R^2 Training Score: {:.2f} \\nOOB Score: {:.2f} \\nR^2 Validation Score: {:.2f}'.format(rf.score(X_train, ytrain), \n",
    "                                                                                             rf.oob_score_,\n",
    "                                                                                             rf.score(X_test, ytest)))\n"
   ]
  },
  {
   "cell_type": "code",
   "execution_count": 122,
   "id": "2513c783",
   "metadata": {},
   "outputs": [
    {
     "data": {
      "text/html": [
       "<div>\n",
       "<style scoped>\n",
       "    .dataframe tbody tr th:only-of-type {\n",
       "        vertical-align: middle;\n",
       "    }\n",
       "\n",
       "    .dataframe tbody tr th {\n",
       "        vertical-align: top;\n",
       "    }\n",
       "\n",
       "    .dataframe thead th {\n",
       "        text-align: right;\n",
       "    }\n",
       "</style>\n",
       "<table border=\"1\" class=\"dataframe\">\n",
       "  <thead>\n",
       "    <tr style=\"text-align: right;\">\n",
       "      <th></th>\n",
       "      <th>Importance</th>\n",
       "    </tr>\n",
       "    <tr>\n",
       "      <th>Feature</th>\n",
       "      <th></th>\n",
       "    </tr>\n",
       "  </thead>\n",
       "  <tbody>\n",
       "    <tr>\n",
       "      <th>policing_correction_spend_per_capita</th>\n",
       "      <td>1.159549</td>\n",
       "    </tr>\n",
       "    <tr>\n",
       "      <th>edu_spending_per_pupil</th>\n",
       "      <td>0.052886</td>\n",
       "    </tr>\n",
       "    <tr>\n",
       "      <th>salary</th>\n",
       "      <td>0.052280</td>\n",
       "    </tr>\n",
       "    <tr>\n",
       "      <th>drug_mortality</th>\n",
       "      <td>0.009004</td>\n",
       "    </tr>\n",
       "    <tr>\n",
       "      <th>bachelor_rate</th>\n",
       "      <td>0.004535</td>\n",
       "    </tr>\n",
       "    <tr>\n",
       "      <th>gdp_capita</th>\n",
       "      <td>0.001573</td>\n",
       "    </tr>\n",
       "    <tr>\n",
       "      <th>binge_drink_rate</th>\n",
       "      <td>0.000302</td>\n",
       "    </tr>\n",
       "    <tr>\n",
       "      <th>poverty_rate</th>\n",
       "      <td>-0.000240</td>\n",
       "    </tr>\n",
       "  </tbody>\n",
       "</table>\n",
       "</div>"
      ],
      "text/plain": [
       "                                      Importance\n",
       "Feature                                         \n",
       "policing_correction_spend_per_capita    1.159549\n",
       "edu_spending_per_pupil                  0.052886\n",
       "salary                                  0.052280\n",
       "drug_mortality                          0.009004\n",
       "bachelor_rate                           0.004535\n",
       "gdp_capita                              0.001573\n",
       "binge_drink_rate                        0.000302\n",
       "poverty_rate                           -0.000240"
      ]
     },
     "execution_count": 122,
     "metadata": {},
     "output_type": "execute_result"
    }
   ],
   "source": [
    "def r2(rf, X_train, ytrain):\n",
    "    return r2_score(ytrain, rf.predict(X_train))\n",
    "\n",
    "perm_imp_rfpimp = permutation_importances(rf, X_train, ytrain, r2)\n",
    "perm_imp_rfpimp # bar plot"
   ]
  },
  {
   "cell_type": "code",
   "execution_count": 127,
   "id": "3890dd9a",
   "metadata": {},
   "outputs": [
    {
     "data": {
      "text/plain": [
       "<AxesSubplot:ylabel='Feature'>"
      ]
     },
     "execution_count": 127,
     "metadata": {},
     "output_type": "execute_result"
    },
    {
     "data": {
      "image/png": "[encoded data removed]",
      "text/plain": [
       "<Figure size 432x288 with 1 Axes>"
      ]
     },
     "metadata": {
      "needs_background": "light"
     },
     "output_type": "display_data"
    }
   ],
   "source": [
    "perm_imp_rfpimp.plot.barh(y='Importance', rot=0)"
   ]
  },
  {
   "cell_type": "markdown",
   "id": "0b90e8dd",
   "metadata": {},
   "source": [
    "### Below is the stacked bar plot, which aim to observe a relationship between the features and the sexual offense rate. The green bar indicates the police spending, orange indicates the sexual offense rate, and blue is the average school district score."
   ]
  },
  {
   "cell_type": "code",
   "execution_count": 58,
   "id": "0c049773",
   "metadata": {
    "scrolled": false
   },
   "outputs": [
    {
     "data": {
      "text/plain": [
       "Text(0, 0.5, 'score/rate_per_100,000/police spending')"
      ]
     },
     "execution_count": 58,
     "metadata": {},
     "output_type": "execute_result"
    },
    {
     "data": {
      "image/png": "[encoded data removed]",
      "text/plain": [
       "<Figure size 1152x1008 with 1 Axes>"
      ]
     },
     "metadata": {
      "needs_background": "light"
     },
     "output_type": "display_data"
    }
   ],
   "source": [
    "#plt.figure(figsize=(24, 20))\n",
    "sub_full = sexual_factors[[\"sex_rate\",\"score.x\",\"policing_correction_spend_per_capita\"]]\n",
    "sub_full.plot(kind='bar', stacked=True, figsize = (16, 14))\n",
    "plt.title(\"Comparison of Sexual Assult Rate, School District Score, and Police Spending of Each State, 2021\")\n",
    "plt.xticks(rotation = 90)\n",
    "plt.legend(loc='best', labels = [\"sexual assault rate\", \"school district score\", \"police correction spending per capita\"])\n",
    "plt.xlabel(\"state\", fontsize = 12)\n",
    "plt.ylabel(\"score/rate_per_100,000/police spending\", fontsize = 12)"
   ]
  },
  {
   "cell_type": "markdown",
   "id": "705566d1",
   "metadata": {},
   "source": [
    "### For the states that have high sexual offense rate, their average school district score is lower(shorter stick), and vice versa. The relationship between sexual offense rate and police spending is not obvious. \n",
    "\n",
    "### According to U.S. News best States Ranking of Education, New Jersey ranks in NO.1 for Pre-K to 12, and No.27 for higher education; Alaska ranks in NO.49 for Pre-K to 12, NO.36 for higher education."
   ]
  },
  {
   "cell_type": "markdown",
   "id": "2a4e9664",
   "metadata": {},
   "source": [
    "#### Note: Poverty rate is not included in the bar plot since it does not have an evident pattern, and the number variance is too small to be compared visually."
   ]
  }
 ],
 "metadata": {
  "kernelspec": {
   "display_name": "Python 3",
   "language": "python",
   "name": "python3"
  },
  "language_info": {
   "codemirror_mode": {
    "name": "ipython",
    "version": 3
   },
   "file_extension": ".py",
   "mimetype": "text/x-python",
   "name": "python",
   "nbconvert_exporter": "python",
   "pygments_lexer": "ipython3",
   "version": "3.8.8"
  }
 },
 "nbformat": 4,
 "nbformat_minor": 5
}
